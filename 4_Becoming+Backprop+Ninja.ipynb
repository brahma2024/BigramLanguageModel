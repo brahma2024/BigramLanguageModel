{
  "nbformat": 4,
  "nbformat_minor": 0,
  "metadata": {
    "colab": {
      "provenance": [],
      "authorship_tag": "ABX9TyNsrqpQK3pt00PiTfpe2mq4",
      "include_colab_link": true
    },
    "kernelspec": {
      "name": "python3",
      "display_name": "Python 3"
    },
    "language_info": {
      "name": "python"
    }
  },
  "cells": [
    {
      "cell_type": "markdown",
      "metadata": {
        "id": "view-in-github",
        "colab_type": "text"
      },
      "source": [
        "<a href=\"https://colab.research.google.com/github/brahma2024/LLM-study/blob/main/4_Becoming%2BBackprop%2BNinja.ipynb\" target=\"_parent\"><img src=\"https://colab.research.google.com/assets/colab-badge.svg\" alt=\"Open In Colab\"/></a>"
      ]
    },
    {
      "cell_type": "markdown",
      "source": [
        "# **4 - Becomming a backprop Ninja**"
      ],
      "metadata": {
        "id": "6YmeANIVttIY"
      }
    },
    {
      "cell_type": "code",
      "execution_count": 154,
      "metadata": {
        "id": "MC8kz7f6YS1k"
      },
      "outputs": [],
      "source": [
        "# No change in code from 3 - Activations&Gradients Lecture"
      ]
    },
    {
      "cell_type": "code",
      "source": [
        "import torch\n",
        "import torch.nn.functional as F\n",
        "import matplotlib.pyplot as plt\n",
        "\n",
        "%matplotlib inline"
      ],
      "metadata": {
        "id": "kqSoHR9vlAwe"
      },
      "execution_count": 155,
      "outputs": []
    },
    {
      "cell_type": "code",
      "source": [
        "!wget https://raw.githubusercontent.com/brahma2024/LLM-study/main/names.txt"
      ],
      "metadata": {
        "colab": {
          "base_uri": "https://localhost:8080/"
        },
        "id": "lznHALpBlQTg",
        "outputId": "46bd1f73-c2d7-4d0c-9abb-c22fa61dea2b"
      },
      "execution_count": 156,
      "outputs": [
        {
          "output_type": "stream",
          "name": "stdout",
          "text": [
            "--2024-06-19 20:57:08--  https://raw.githubusercontent.com/brahma2024/LLM-study/main/names.txt\n",
            "Resolving raw.githubusercontent.com (raw.githubusercontent.com)... 185.199.108.133, 185.199.109.133, 185.199.110.133, ...\n",
            "Connecting to raw.githubusercontent.com (raw.githubusercontent.com)|185.199.108.133|:443... connected.\n",
            "HTTP request sent, awaiting response... 200 OK\n",
            "Length: 228146 (223K) [text/plain]\n",
            "Saving to: ‘names.txt.3’\n",
            "\n",
            "names.txt.3         100%[===================>] 222.80K  --.-KB/s    in 0.05s   \n",
            "\n",
            "2024-06-19 20:57:08 (4.42 MB/s) - ‘names.txt.3’ saved [228146/228146]\n",
            "\n"
          ]
        }
      ]
    },
    {
      "cell_type": "code",
      "source": [
        "# read all the words\n",
        "words = open('names.txt', 'r').read().splitlines()\n",
        "print(len(words))\n",
        "print(max(len(w) for w in words))\n",
        "print(words[:8])"
      ],
      "metadata": {
        "colab": {
          "base_uri": "https://localhost:8080/"
        },
        "id": "extfhiI1lcm3",
        "outputId": "969c92ab-5acc-445a-b30f-503e8507a56f"
      },
      "execution_count": 157,
      "outputs": [
        {
          "output_type": "stream",
          "name": "stdout",
          "text": [
            "32033\n",
            "15\n",
            "['emma', 'olivia', 'ava', 'isabella', 'sophia', 'charlotte', 'mia', 'amelia']\n"
          ]
        }
      ]
    },
    {
      "cell_type": "code",
      "source": [
        "# build the vocabulary of chracters and mappings to/from integers\n",
        "chars = sorted(list(set(''.join(words))))\n",
        "stoi = {s:i+1 for i,s in enumerate(chars)}\n",
        "stoi['.'] = 0\n",
        "itos = {i:s for s,i in stoi.items()}\n",
        "vocab_size = len(itos)\n",
        "print(itos)"
      ],
      "metadata": {
        "colab": {
          "base_uri": "https://localhost:8080/"
        },
        "id": "qd8oM0Q5l8FG",
        "outputId": "6473cd56-1369-4365-c508-3dbad397bc7f"
      },
      "execution_count": 158,
      "outputs": [
        {
          "output_type": "stream",
          "name": "stdout",
          "text": [
            "{1: 'a', 2: 'b', 3: 'c', 4: 'd', 5: 'e', 6: 'f', 7: 'g', 8: 'h', 9: 'i', 10: 'j', 11: 'k', 12: 'l', 13: 'm', 14: 'n', 15: 'o', 16: 'p', 17: 'q', 18: 'r', 19: 's', 20: 't', 21: 'u', 22: 'v', 23: 'w', 24: 'x', 25: 'y', 26: 'z', 0: '.'}\n"
          ]
        }
      ]
    },
    {
      "cell_type": "code",
      "source": [
        "# build dataset\n",
        "block_size = 3 # context length: how many characters do we take to predict the next one?\n",
        "\n",
        "def build_dataset(words):\n",
        "  X, Y = [], []\n",
        "\n",
        "  for w in words:\n",
        "    context = [0] * block_size\n",
        "    for ch in w + '.':\n",
        "      ix = stoi[ch]\n",
        "      X.append(context)\n",
        "      Y.append(ix)\n",
        "\n",
        "      # print(''.join(itos[i] for i in context), '--->', itos[ix])\n",
        "      context = context[1:] + [ix] # crop and append\n",
        "\n",
        "  X = torch.tensor(X)\n",
        "  Y = torch.tensor(Y)\n",
        "  print(X.shape, Y.shape)\n",
        "  return X, Y\n",
        "\n",
        "# split dataset into train | dev | test\n",
        "\n",
        "import random\n",
        "random.seed(0)\n",
        "random.shuffle(words)\n",
        "n1 = int(0.8*len(words))\n",
        "n2 = int(0.9*len(words))\n",
        "\n",
        "Xtr, Ytr = build_dataset(words[:n1])       # 80%\n",
        "Xdev, Ydev = build_dataset(words[n1:n2])   # 10%\n",
        "Xtest, Ytest = build_dataset(words[n2:])   # 10%"
      ],
      "metadata": {
        "colab": {
          "base_uri": "https://localhost:8080/"
        },
        "id": "GCU07v1TmX9z",
        "outputId": "e307143a-e5da-4ca0-db2b-be6bad0c0ec5"
      },
      "execution_count": 159,
      "outputs": [
        {
          "output_type": "stream",
          "name": "stdout",
          "text": [
            "torch.Size([182594, 3]) torch.Size([182594])\n",
            "torch.Size([22846, 3]) torch.Size([22846])\n",
            "torch.Size([22706, 3]) torch.Size([22706])\n"
          ]
        }
      ]
    },
    {
      "cell_type": "code",
      "source": [
        "# boilerplate done above, action next"
      ],
      "metadata": {
        "id": "IgdiXkv8sQAO"
      },
      "execution_count": 160,
      "outputs": []
    },
    {
      "cell_type": "code",
      "source": [
        "# utility function we will use later when comparing manual gradients to PyTorch gradients\n",
        "def cmp(s, dt, t):\n",
        "  ex = torch.all(dt == t.grad).item()    # comparing all values of dt with t.grad and return a boolean value | if all values are equal returns TRUE\n",
        "  app = torch.allclose(dt, t.grad)       # torch.allclose looks for values which are very very close, say to some nums of decimal, if Yes returns True | allows a little wiggle room\n",
        "  maxdiff = (dt - t.grad).abs().max().item()  # what is the maxim difference if there is any\n",
        "  print(f'{s:15s} | exact: {str(ex):5s} | approximate: {str(app):5s} | maxdiff: {maxdiff}')"
      ],
      "metadata": {
        "id": "KUIRuDk0u4Zz"
      },
      "execution_count": 161,
      "outputs": []
    },
    {
      "cell_type": "code",
      "source": [
        "n_embd = 10 # the dimensionality of the character embedding vectors\n",
        "n_hidden = 64 # the number of neurons in the hidden layer of the MLP\n",
        "\n",
        "g = torch.Generator().manual_seed(2147483647) # for reproducability\n",
        "C = torch.randn((vocab_size, n_embd), generator=g)\n",
        "# Layer 1\n",
        "W1 = torch.randn((n_embd * block_size, n_hidden), generator=g) * (5/3)/((n_embd * block_size)**0.5)\n",
        "b1 = torch.randn(n_hidden,                        generator=g) * 0.1 # just to check for gradient wrt to b1, otherwise in actual NN training its useless because of batchNorm\n",
        "# Layer 2\n",
        "W2 = torch.randn((n_hidden, vocab_size),          generator=g) * 0.1\n",
        "b2 = torch.randn(vocab_size,                      generator=g) * 0.1\n",
        "# BatchNorm parameters\n",
        "bngain = torch.randn((1, n_hidden))*0.1 + 1.0\n",
        "bnbias = torch.randn((1, n_hidden))*0.1\n",
        "\n",
        "# Note: I am initialiazing many of these parameters in non-standard ways\n",
        "# because sometimes initializing with e.g. all zeros could mask an incorrect\n",
        "# implementation of the backward pass.\n",
        "\n",
        "parameters = [C, W1, b1, W2, b2, bngain, bnbias]\n",
        "print(sum(p.nelement() for p in parameters)) # number of parameters in total\n",
        "for p in parameters:\n",
        "  p.requires_grad = True"
      ],
      "metadata": {
        "colab": {
          "base_uri": "https://localhost:8080/"
        },
        "id": "H0XffmQeUBqf",
        "outputId": "109b2279-dacc-4fd8-9600-7054bc0147d8"
      },
      "execution_count": 162,
      "outputs": [
        {
          "output_type": "stream",
          "name": "stdout",
          "text": [
            "4137\n"
          ]
        }
      ]
    },
    {
      "cell_type": "code",
      "source": [
        "# just training one batch\n",
        "batch_size = 32\n",
        "n = batch_size # a shorter variable also, for convenience\n",
        "# construct a minibatch\n",
        "ix =torch.randint(0, Xtr.shape[0], (batch_size,), generator=g) # ix = list of random int between [0, Xtr.shape[0]]\n",
        "Xb, Yb = Xtr[ix], Ytr[ix] # batch X, Y"
      ],
      "metadata": {
        "id": "kgD-isz4WEyJ"
      },
      "execution_count": 163,
      "outputs": []
    },
    {
      "cell_type": "code",
      "source": [
        "# forward pass, \"chunkated\" into smaller steps that are possible to backward one at a time\n",
        "\n",
        "emb = C[Xb] # embd the characters into vectors\n",
        "embcat = emb.view(emb.shape[0], -1) # contcatenate the vectors\n",
        "# Linear Layer 1\n",
        "hprebn = embcat @ W1 + b1 # hidden layer preactivation\n",
        "# BatchNorm Layer\n",
        "bnmeani = 1/n*hprebn.sum(0, keepdim=True)\n",
        "bndiff = hprebn - bnmeani\n",
        "bndiff2 = bndiff**2\n",
        "bnvar = 1/(n-1)*(bndiff2).sum(0, keepdim=True) # note: Bessel's correction (dividing by n-1, not n)\n",
        "bnvar_inv = (bnvar + 1e-5)**-0.5\n",
        "bnraw = bndiff * bnvar_inv\n",
        "hpreact = bngain * bnraw + bnbias\n",
        "# non-linearity\n",
        "h = torch.tanh(hpreact) # hidden layer\n",
        "# Linear Layer 2\n",
        "logits = h @ W2 + b2 # output layer\n",
        "# cross entropy loss ( same as F.cross_entropy(logits, Yb))\n",
        "logit_maxes = logits.max(1, keepdim=True).values # from the log probs for each character, given a sample/example, fetch the largest log probability + its index\n",
        "norm_logits = logits - logit_maxes # the index with largest prob = 0 rest -ve\n",
        "counts = norm_logits.exp() # for value = 0, count= 1 and for rest 0 < counts < 1\n",
        "counts_sum = counts.sum(1, keepdim=True)\n",
        "counts_sum_inv = counts_sum**-1 # if I use (1.0/count_sum) instead then I can't backprop to be exact ..\n",
        "probs = counts * counts_sum_inv\n",
        "logprobs = probs.log()\n",
        "loss = -logprobs[range(n), Yb].mean() # reduce the loglikelihood to as small as zero\n",
        "\n",
        "# pytorch backward pass\n",
        "for p in parameters:\n",
        "  p.grad = None\n",
        "for t in [logprobs, probs, counts_sum_inv, counts_sum, counts,\n",
        "          norm_logits, logit_maxes, logits, h, hpreact, bnraw,\n",
        "          bnvar_inv, bnvar, bndiff2, bndiff, bnmeani, hprebn,\n",
        "          embcat, emb]:\n",
        "  t.retain_grad()\n",
        "loss.backward()\n",
        "loss\n"
      ],
      "metadata": {
        "colab": {
          "base_uri": "https://localhost:8080/"
        },
        "id": "2S3YFx3bvlQx",
        "outputId": "e40667c7-b313-4759-9279-c241c241b8a1"
      },
      "execution_count": 164,
      "outputs": [
        {
          "output_type": "execute_result",
          "data": {
            "text/plain": [
              "tensor(3.2823, grad_fn=<NegBackward0>)"
            ]
          },
          "metadata": {},
          "execution_count": 164
        }
      ]
    },
    {
      "cell_type": "code",
      "source": [
        "ixl = logits.max(1, keepdim=False).indices\n",
        "dlogits1 = torch.zeros_like(logits)\n",
        "dlogits1[torch.arange(n),ixl] = 1.0\n",
        "\n",
        "# all of the options below graph the same output\n",
        "# plt.imshow(F.one_hot(ixl, num_classes=logits.shape[1]))\n",
        "plt.imshow(dlogits1) # shows which indexes have max\n",
        "# plt.imshow(F.one_hot(logits.max(1).indices, num_classes=logits.shape[1])) # where all values are 1"
      ],
      "metadata": {
        "colab": {
          "base_uri": "https://localhost:8080/",
          "height": 447
        },
        "id": "NXZa4iDGbRkr",
        "outputId": "e0e07b34-a0f6-4c38-cf92-e7a7640dc7a0"
      },
      "execution_count": 165,
      "outputs": [
        {
          "output_type": "execute_result",
          "data": {
            "text/plain": [
              "<matplotlib.image.AxesImage at 0x7d2d30a64f70>"
            ]
          },
          "metadata": {},
          "execution_count": 165
        },
        {
          "output_type": "display_data",
          "data": {
            "text/plain": [
              "<Figure size 640x480 with 1 Axes>"
            ],
            "image/png": "[encoded data removed]"
          },
          "metadata": {}
        }
      ]
    },
    {
      "cell_type": "code",
      "source": [
        "# @title Test Code: To verify the mathematical steps behind calculating the cross-entropy loss\n",
        "# !pip install torchviz\n",
        "# from torchviz import make_dot\n",
        "\n",
        "# # Seed for reproducibility\n",
        "# torch.manual_seed(0)\n",
        "\n",
        "# # Example tensor calculations\n",
        "# a = torch.randint(-100, 100, (10,5), dtype=torch.float, requires_grad=True)  # logits\n",
        "# out = torch.randint(0,5,(5,))  # Yb\n",
        "# a_max = a.max(1, keepdim=True).values  # logits_max\n",
        "# b = a - a_max  # norm_logits\n",
        "# b_count = b.exp()  # exponential of normalized logits\n",
        "# b_count_sum = b_count.sum(1, keepdim=True)  # sum of exponentials\n",
        "# b_count_sum_inv = b_count_sum.pow(-1)  # inverse of sum\n",
        "# b_probs = b_count * b_count_sum_inv  # probabilities\n",
        "# log_probs = b_probs.log()  # log probabilities\n",
        "# loss = -(log_probs[torch.arange(5), out]).mean()  # cross-entropy loss\n",
        "\n",
        "# # Generate graph\n",
        "# # graph = make_dot(loss, params={'a': a})\n",
        "# # graph.attr(rankdir='LR', size='24, 24')  # Set the graph to be left-to-right\n",
        "# # graph.render(\"output_horizontal\", format=\"png\", cleanup=True)\n",
        "# # graph\n",
        "\n",
        "# from graphviz import Digraph\n",
        "\n",
        "# # Create a new directed graph\n",
        "# dot = Digraph(format='png')\n",
        "# dot.attr(rankdir='LR')  # Left to Right graph\n",
        "\n",
        "# # Adding nodes representing each step in your tensor operations\n",
        "# dot.node('A', 'a = rand([-100, 100], [10,5])')\n",
        "# dot.node('B', 'out = rand([0,5], [5,])')\n",
        "# dot.node('C', 'a_max = max(a)')\n",
        "# dot.node('D', 'b = a - a_max')\n",
        "# dot.node('E', 'b_count = exp(b)')\n",
        "# dot.node('F', 'b_count_sum = sum(b_count)')\n",
        "# dot.node('G', 'b_count_sum_inv = 1 / b_count_sum')\n",
        "# dot.node('H', 'b_probs = b_count * b_count_sum_inv')\n",
        "# dot.node('I', 'log_probs = log(b_probs)')\n",
        "# dot.node('J', 'loss = -mean(log_probs)')\n",
        "\n",
        "# # Adding edges\n",
        "# dot.edge('A', 'C', 'Calculate max per row')\n",
        "# dot.edge('A', 'D', 'Subtract max')\n",
        "# dot.edge('D', 'E', 'Exponential')\n",
        "# dot.edge('E', 'F', 'Sum of exponentials')\n",
        "# dot.edge('F', 'G', 'Inverse')\n",
        "# dot.edge('E', 'H', 'Element-wise multiplication')\n",
        "# dot.edge('G', 'H')\n",
        "# dot.edge('H', 'I', 'Logarithm')\n",
        "# dot.edge('I', 'J', 'Negative mean')\n",
        "\n",
        "# # Render the graph to a file\n",
        "# dot.render('tensor_operations', view=True)\n",
        "\n",
        "# # Display the graph (if using Jupyter, for instance)\n",
        "# dot\n"
      ],
      "metadata": {
        "id": "Racz_KbZvZlq",
        "cellView": "form"
      },
      "execution_count": 166,
      "outputs": []
    },
    {
      "cell_type": "code",
      "source": [
        "# @title Exercise 1: backprop through the whole thing manually,\n",
        "# backpropagating through exactly all of the variables\n",
        "# as they are defined in the forward pass above, one by one\n",
        "\n",
        "# --------------\n",
        "# Calculate the Jacobian Matrix at each step\n",
        "# --------------\n",
        "# derivative of loss w.r.t. all elements of logprobs\n",
        "dlogprobs = torch.zeros_like(logprobs)\n",
        "dlogprobs[range(n), Yb] = -1.0/n      # for all indexes = Yb will be - 1/n derivative of mean\n",
        "cmp('logprobs', dlogprobs, logprobs)\n",
        "\n",
        "dprobs = (1.0 / probs) * dlogprobs # derivative of loss w.r.t. all elements of probs\n",
        "cmp('probs', dprobs, probs)\n",
        "# how does this works:\n",
        "# if probs = 1.0 that is most characters are getting correctly generated in output so 1/probs = 1\n",
        "# that means dlogprobs i.e. the gradients of loss wrt to logprobs gets a passthrough\n",
        "# but if probs are incorrectly assigned, i.e. probs is very low,\n",
        "# then 1/probs will be very large and will boost the dlogprobs to make the model learn fast\n",
        "\n",
        "# probs = counts * counts_sum_inv  | i.e. we need to find the derivative both with respect to counts & counts_sum_inv\n",
        "# 1: dcounts_sum_inv i.e. change in loss with respect to count_sum_inv\n",
        "dcounts_sum_inv = (counts * dprobs).sum(1, keepdim=True)\n",
        "cmp('counts_sum_inv', dcounts_sum_inv, counts_sum_inv)\n",
        "# here the node counts_sum_inv is used multiple times, and in the backward pass all the gradients from 27 (vocab_size) characters arrive at\n",
        "# one node for each 32 example, so correct thing to do is to sum all the gradients at that node and maintain the shape\n",
        "# counts_sum_inv is of shape [n, 1] so its gradient should be the same shape hence post summing, keepdim = True\n",
        "\n",
        "# 2: dcounts i.e. dloss/dcounts | this is part 1 of dloss/dcount\n",
        "dcounts = counts_sum_inv * dprobs\n",
        "\n",
        "# now calculating dloss/dcounts_sum\n",
        "dcounts_sum = (-counts_sum**-2) * dcounts_sum_inv\n",
        "cmp('counts_sum', dcounts_sum, counts_sum)\n",
        "\n",
        "# dloss/ dcounts | this is total dloss/dcount\n",
        "# count node: impacts changes in probs and in counts_sum | so both these changes need to be added as part of the back propagation\n",
        "dcounts += torch.ones_like(counts) * dcounts_sum # change in loss w.r.t. counts [chain rule applied]\n",
        "cmp('counts', dcounts, counts)\n",
        "\n",
        "# dnorm_logits = dcounts * norm_logits.exp() # dloss / dnorm_logits | counts = dnorm_logits.exp()\n",
        "dnorm_logits = counts * dcounts\n",
        "cmp('norm_logits', dnorm_logits, norm_logits)\n",
        "\n",
        "# to allow for gradient pass through norm_logits = logits - logit_maxes | its in 2 parts\n",
        "# 1: logit_maxes\n",
        "# dlogit_maxes = (dnorm_logits * -torch.ones_like(logit_maxes)).sum(1, keepdim=True) # dloss/ dlogit_maxes | this is expensive since we are creating a new tensor with all ones\n",
        "dlogit_maxes = (-dnorm_logits).sum(1, keepdim=True) # same as above, just a more neater implementation\n",
        "cmp('logit_maxes', dlogit_maxes, logit_maxes)\n",
        "# Just a side note: gradients of logits_max does not matter much when computing final loss\n",
        "# reason: purpose of logit_max is only from the purpose of numerical stability and hence does not contribute much to the final loss\n",
        "# print(f'{dlogit_maxes=}') # printing to see values of dlogits_maxes ~ 0.0\n",
        "\n",
        "# 2: dlogits | this is the 1 part of the dlogits\n",
        "# dlogits = dnorm_logits * torch.ones_like(logits) # expensive option since we are creating a new tensor with all ones\n",
        "dlogits = dnorm_logits.clone()\n",
        "\n",
        "# 2nd part of dlogits\n",
        "# for logits.max(1, keepdim=True).values | what its doing is picking up the values with maximum value for each of n example sets\n",
        "# method 1: the usual approach as used above\n",
        "# dlogits1 = torch.zeros_like(logits) # all values initialized to zero\n",
        "# dlogits1[range(n),logits.max(1, keepdim=False).indices] = 1.0 # only values at indices which had maximum value in fwd pass are assigned 1.0\n",
        "# dlogits += dlogit_maxes * dlogits1 # gradient flowing from logit_maxes to logits is added to gradient flowing from node norm_logits\n",
        "# method 2: using F.one_hot\n",
        "dlogits += F.one_hot(logits.max(1).indices, num_classes=logits.shape[1]) * dlogit_maxes # at indices selected one_hot will make value = 1, rest = 0\n",
        "cmp('logits', dlogits, logits)\n",
        "\n",
        "# gardient flow through activation layer logits = h @ W1 + b1\n",
        "# dloss/dh\n",
        "dh = dlogits @ W2.T # W2.t() = W2.T\n",
        "cmp('h', dh, h)\n",
        "\n",
        "# dloss/dW2\n",
        "dW2 = h.T @ dlogits # h.t() = h.T\n",
        "# print(dW2, dW2.t().shape, W2.shape)\n",
        "cmp('W2', dW2, W2)\n",
        "\n",
        "# dloss/db2\n",
        "# db2 = (dlogits * torch.ones_like(b2)).sum(0, keepdim=True)\n",
        "# db2 = (dlogits).sum(0, keepdim=True) # same but simpler implementation\n",
        "db2 = (dlogits).sum(0, keepdim=False) # b2 is a 1D vector, hence heepdim=False\n",
        "cmp('b2', db2, b2)\n",
        "\n",
        "\n",
        "# dloss/dhpreact = 4/(e^(-x) + e^x)^2 | dtanh(x)^2 = sech(x)^ = 1 - tanh(x)^2\n",
        "# dhpreact = dh * torch.sub(torch.ones_like(hpreact), (torch.tanh(hpreact)**2))\n",
        "dhpreact = (1.0 - h**2) * dh # same as above, but simpler/easier to read\n",
        "cmp('hpreact', dhpreact, hpreact)\n",
        "\n",
        "# dloss/dbngain\n",
        "dbngain = (dhpreact * bnraw).sum(0, keepdim=True) # bngain was broadcasted to all 32 rows(examples), so the gradient is summed up in that direction\n",
        "cmp('bngain', dbngain, bngain)\n",
        "\n",
        "# dloss/dbnraw\n",
        "dbnraw = bngain * dhpreact\n",
        "cmp('bnraw', dbnraw, bnraw)\n",
        "\n",
        "# dloss/dbnbias\n",
        "# dbnbias = (dhpreact * torch.ones_like(bnbias)).sum(0, keepdim=True)\n",
        "dbnbias = (dhpreact).sum(0, keepdim=True) # bnbias was broadcasted to all 32 rows(examples), so the gradient is summed up in that direction\n",
        "cmp('bnbias', dbnbias, bnbias)\n",
        "\n",
        "# dloss/dbnvar_inv\n",
        "# Ref.: bnraw = bndiff * bnvar_inv\n",
        "dbnvar_inv = (bndiff * dbnraw).sum(0, keepdim=True)\n",
        "cmp('bnvar_inv', dbnvar_inv, bnvar_inv)\n",
        "\n",
        "# dloss/dbndiff: Part 1\n",
        "dbndiff = bnvar_inv * dbnraw # bndiff part 1: this is 1st part of the gradient flowing through bndiff, part 2 when calc gradient flowing through bndiff2\n",
        "# cmp('bndiff: Part 1', dbndiff, bndiff)\n",
        "\n",
        "# dloss/dbnvar\n",
        "# Ref.:bnvar_inv = (bnvar + 1e-5)**-0.5\n",
        "dbnvar = dbnvar_inv * -(0.5 * (bnvar + 1e-5)**-1.5)\n",
        "cmp('bnvar', dbnvar, bnvar)\n",
        "\n",
        "# dloss/dbndiff2\n",
        "# Ref.:bnvar = 1/(n-1)*(bndiff2).sum(0, keepdim=True)\n",
        "# dbndiff2 = 1.0/(n-1) * dbnvar\n",
        "dbndiff2 = ((1.0/(n-1)) * torch.ones_like(bndiff2)) * dbnvar\n",
        "cmp('bndiff2', dbndiff2, bndiff2)\n",
        "\n",
        "# dloss/dbndiff: Part 2\n",
        "# Ref.:bndiff2 = bndiff**2\n",
        "dbndiff += 2 * bndiff * dbndiff2\n",
        "cmp('bndiff: Full', dbndiff, bndiff)\n",
        "\n",
        "# dloss/dhprebn: Part 1\n",
        "# Ref.: bndiff = hprebn - bnmeani\n",
        "dhprebn = dbndiff.clone()\n",
        "# cmp('hprebn: Part 1', dhprebn, hprebn)\n",
        "\n",
        "# dloss /dbnmeani\n",
        "# Ref: bndiff = hprebn - bnmeani\n",
        "# dbnmeani = -(torch.ones_like(bndiff) * dbndiff).sum(0, keepdim=True)\n",
        "dbnmeani = (-dbndiff).sum(0, keepdim=True)\n",
        "cmp('bnmeani', dbnmeani, bnmeani)\n",
        "\n",
        "# dloss/dhprebn: Part 2\n",
        "# Ref.:bnmeani = 1/n*hprebn.sum(0, keepdim=True)\n",
        "dhprebn += 1/n * (torch.ones_like(hprebn) * dbnmeani)\n",
        "# dhprebn += 1/n * (dbnmeani).sum(0, keepdim=True)  # this is another approach\n",
        "cmp('hprebn: Full', dhprebn, hprebn)\n",
        "\n",
        "# dloss/dembcat\n",
        "# Ref: hprebn = embcat @ W1 + b1\n",
        "dembcat = dhprebn @ W1.T\n",
        "cmp('embcat', dembcat, embcat)\n",
        "\n",
        "# dloss/dW1\n",
        "dW1 = embcat.T @ dhprebn\n",
        "cmp('W1', dW1, W1)\n",
        "\n",
        "# dloss/db1\n",
        "db1 = dhprebn.sum(0, keepdim=False) # keepdim=False, since b1 is a 1D tensor\n",
        "cmp('b1', db1, b1)\n",
        "\n",
        "# dloss/demb\n",
        "# Ref:embcat = emb.view(emb.shape[0], -1)\n",
        "# demb = dembcat.view(emb.shape[0], emb.shape[1], emb.shape[2]) # more not-so-sensible version\n",
        "demb = dembcat.view(emb.shape)\n",
        "cmp('emb', demb, emb)\n",
        "\n",
        "# dloss/demb\n",
        "# Ref: emb = C[Xb]\n",
        "# Explanation: Here what C[Xb] is actually doing is, for all examples in input batch Xb\n",
        "# it looks up into the embedding table C, and pulls out the embedding vector corresponding to that itos map (a = 1, .=0, and so on)\n",
        "# Now when passing the gradients through C[Xb], it might be the possibility that one index position in embedding table C is called multiple time\n",
        "# e.g. print(Xb[:5])\n",
        "# returns tensor([[ 0,  0,  0],\n",
        "#        [ 1, 14,  7],\n",
        "        # [ 0,  0, 11],\n",
        "        # [18,  9,  5],\n",
        "        # [18,  9,  1]]) ---> like 0, 1, 9, 18 are referenced multiple times\n",
        "# so the gradient for these needs to added together\n",
        "# this can be done using for loop\n",
        "dC = torch.zeros_like(C)\n",
        "for k in range(Xb.shape[0]):\n",
        "  for j in range(Xb.shape[1]):\n",
        "    xkj = Xb[k,j]\n",
        "    dC[xkj] += demb[k,j]\n",
        "\n",
        "cmp('C', dC, C)\n"
      ],
      "metadata": {
        "colab": {
          "base_uri": "https://localhost:8080/"
        },
        "id": "9uWRdZPHHxNY",
        "outputId": "f8165b4e-5ceb-49a0-d86c-57bbc09f828f"
      },
      "execution_count": 167,
      "outputs": [
        {
          "output_type": "stream",
          "name": "stdout",
          "text": [
            "logprobs        | exact: True  | approximate: True  | maxdiff: 0.0\n",
            "probs           | exact: True  | approximate: True  | maxdiff: 0.0\n",
            "counts_sum_inv  | exact: True  | approximate: True  | maxdiff: 0.0\n",
            "counts_sum      | exact: True  | approximate: True  | maxdiff: 0.0\n",
            "counts          | exact: True  | approximate: True  | maxdiff: 0.0\n",
            "norm_logits     | exact: True  | approximate: True  | maxdiff: 0.0\n",
            "logit_maxes     | exact: True  | approximate: True  | maxdiff: 0.0\n",
            "logits          | exact: True  | approximate: True  | maxdiff: 0.0\n",
            "h               | exact: True  | approximate: True  | maxdiff: 0.0\n",
            "W2              | exact: True  | approximate: True  | maxdiff: 0.0\n",
            "b2              | exact: True  | approximate: True  | maxdiff: 0.0\n",
            "hpreact         | exact: False | approximate: True  | maxdiff: 4.656612873077393e-10\n",
            "bngain          | exact: False | approximate: True  | maxdiff: 1.862645149230957e-09\n",
            "bnraw           | exact: False | approximate: True  | maxdiff: 4.656612873077393e-10\n",
            "bnbias          | exact: False | approximate: True  | maxdiff: 3.725290298461914e-09\n",
            "bnvar_inv       | exact: False | approximate: True  | maxdiff: 2.7939677238464355e-09\n",
            "bnvar           | exact: False | approximate: True  | maxdiff: 6.984919309616089e-10\n",
            "bndiff2         | exact: False | approximate: True  | maxdiff: 2.546585164964199e-11\n",
            "bndiff: Full    | exact: False | approximate: True  | maxdiff: 9.313225746154785e-10\n",
            "bnmeani         | exact: False | approximate: True  | maxdiff: 3.725290298461914e-09\n",
            "hprebn: Full    | exact: False | approximate: True  | maxdiff: 9.313225746154785e-10\n",
            "embcat          | exact: False | approximate: True  | maxdiff: 1.3969838619232178e-09\n",
            "W1              | exact: False | approximate: True  | maxdiff: 7.450580596923828e-09\n",
            "b1              | exact: False | approximate: True  | maxdiff: 2.3283064365386963e-09\n",
            "emb             | exact: False | approximate: True  | maxdiff: 1.3969838619232178e-09\n",
            "C               | exact: False | approximate: True  | maxdiff: 6.51925802230835e-09\n"
          ]
        }
      ]
    },
    {
      "cell_type": "code",
      "source": [
        "for i in range(emb.shape[0]):\n",
        "  for j in range(emb.shape[1]):\n",
        "    # print(i,j, '---', C[Xb][i,j] == emb[i, j])\n",
        "    ixt = Xb[i,j]\n",
        "    print(ixt, '---> ', C[ixt], '--->', C[Xb][i,j])"
      ],
      "metadata": {
        "colab": {
          "base_uri": "https://localhost:8080/"
        },
        "id": "Kx5HXYU3x8bB",
        "outputId": "7c12f153-5ad8-43db-a3e7-3a4f1b3a5a67"
      },
      "execution_count": 168,
      "outputs": [
        {
          "output_type": "stream",
          "name": "stdout",
          "text": [
            "tensor(0) --->  tensor([ 1.5674, -0.2373, -0.0274, -1.1008,  0.2859, -0.0296, -1.5471,  0.6049,\n",
            "         0.0791,  0.9046], grad_fn=<SelectBackward0>) ---> tensor([ 1.5674, -0.2373, -0.0274, -1.1008,  0.2859, -0.0296, -1.5471,  0.6049,\n",
            "         0.0791,  0.9046], grad_fn=<SelectBackward0>)\n",
            "tensor(0) --->  tensor([ 1.5674, -0.2373, -0.0274, -1.1008,  0.2859, -0.0296, -1.5471,  0.6049,\n",
            "         0.0791,  0.9046], grad_fn=<SelectBackward0>) ---> tensor([ 1.5674, -0.2373, -0.0274, -1.1008,  0.2859, -0.0296, -1.5471,  0.6049,\n",
            "         0.0791,  0.9046], grad_fn=<SelectBackward0>)\n",
            "tensor(0) --->  tensor([ 1.5674, -0.2373, -0.0274, -1.1008,  0.2859, -0.0296, -1.5471,  0.6049,\n",
            "         0.0791,  0.9046], grad_fn=<SelectBackward0>) ---> tensor([ 1.5674, -0.2373, -0.0274, -1.1008,  0.2859, -0.0296, -1.5471,  0.6049,\n",
            "         0.0791,  0.9046], grad_fn=<SelectBackward0>)\n",
            "tensor(1) --->  tensor([-0.4713,  0.7868, -0.3284, -0.4330,  1.3729,  2.9334,  1.5618, -1.6261,\n",
            "         0.6772, -0.8404], grad_fn=<SelectBackward0>) ---> tensor([-0.4713,  0.7868, -0.3284, -0.4330,  1.3729,  2.9334,  1.5618, -1.6261,\n",
            "         0.6772, -0.8404], grad_fn=<SelectBackward0>)\n",
            "tensor(14) --->  tensor([ 4.6827e-01, -6.5650e-01,  6.1662e-01, -6.2197e-01,  5.1007e-01,\n",
            "         1.3563e+00,  2.3445e-01, -4.5585e-01, -1.3132e-03, -5.1161e-01],\n",
            "       grad_fn=<SelectBackward0>) ---> tensor([ 4.6827e-01, -6.5650e-01,  6.1662e-01, -6.2197e-01,  5.1007e-01,\n",
            "         1.3563e+00,  2.3445e-01, -4.5585e-01, -1.3132e-03, -5.1161e-01],\n",
            "       grad_fn=<SelectBackward0>)\n",
            "tensor(7) --->  tensor([ 0.6169,  1.5160, -1.0447, -0.6641, -0.7239,  1.7507,  0.1753,  0.9928,\n",
            "        -0.6279,  0.0770], grad_fn=<SelectBackward0>) ---> tensor([ 0.6169,  1.5160, -1.0447, -0.6641, -0.7239,  1.7507,  0.1753,  0.9928,\n",
            "        -0.6279,  0.0770], grad_fn=<SelectBackward0>)\n",
            "tensor(0) --->  tensor([ 1.5674, -0.2373, -0.0274, -1.1008,  0.2859, -0.0296, -1.5471,  0.6049,\n",
            "         0.0791,  0.9046], grad_fn=<SelectBackward0>) ---> tensor([ 1.5674, -0.2373, -0.0274, -1.1008,  0.2859, -0.0296, -1.5471,  0.6049,\n",
            "         0.0791,  0.9046], grad_fn=<SelectBackward0>)\n",
            "tensor(0) --->  tensor([ 1.5674, -0.2373, -0.0274, -1.1008,  0.2859, -0.0296, -1.5471,  0.6049,\n",
            "         0.0791,  0.9046], grad_fn=<SelectBackward0>) ---> tensor([ 1.5674, -0.2373, -0.0274, -1.1008,  0.2859, -0.0296, -1.5471,  0.6049,\n",
            "         0.0791,  0.9046], grad_fn=<SelectBackward0>)\n",
            "tensor(11) --->  tensor([-0.5653,  0.5428,  0.1755, -2.2901, -0.7093, -0.2928, -2.1803,  0.0793,\n",
            "         0.9019,  1.2028], grad_fn=<SelectBackward0>) ---> tensor([-0.5653,  0.5428,  0.1755, -2.2901, -0.7093, -0.2928, -2.1803,  0.0793,\n",
            "         0.9019,  1.2028], grad_fn=<SelectBackward0>)\n",
            "tensor(18) --->  tensor([ 1.2815, -0.6318, -1.2464,  0.6830, -0.3946,  0.0144,  0.5722,  0.8673,\n",
            "         0.6315, -1.2230], grad_fn=<SelectBackward0>) ---> tensor([ 1.2815, -0.6318, -1.2464,  0.6830, -0.3946,  0.0144,  0.5722,  0.8673,\n",
            "         0.6315, -1.2230], grad_fn=<SelectBackward0>)\n",
            "tensor(9) --->  tensor([-1.3257,  0.1467,  0.1691, -1.5397, -0.7276,  1.1491, -0.8746, -0.2977,\n",
            "        -1.3707,  0.1150], grad_fn=<SelectBackward0>) ---> tensor([-1.3257,  0.1467,  0.1691, -1.5397, -0.7276,  1.1491, -0.8746, -0.2977,\n",
            "        -1.3707,  0.1150], grad_fn=<SelectBackward0>)\n",
            "tensor(5) --->  tensor([ 0.1156,  0.8032,  0.5411, -1.1646,  0.1476, -1.0006,  0.3801,  0.4733,\n",
            "        -0.9103, -0.7830], grad_fn=<SelectBackward0>) ---> tensor([ 0.1156,  0.8032,  0.5411, -1.1646,  0.1476, -1.0006,  0.3801,  0.4733,\n",
            "        -0.9103, -0.7830], grad_fn=<SelectBackward0>)\n",
            "tensor(18) --->  tensor([ 1.2815, -0.6318, -1.2464,  0.6830, -0.3946,  0.0144,  0.5722,  0.8673,\n",
            "         0.6315, -1.2230], grad_fn=<SelectBackward0>) ---> tensor([ 1.2815, -0.6318, -1.2464,  0.6830, -0.3946,  0.0144,  0.5722,  0.8673,\n",
            "         0.6315, -1.2230], grad_fn=<SelectBackward0>)\n",
            "tensor(9) --->  tensor([-1.3257,  0.1467,  0.1691, -1.5397, -0.7276,  1.1491, -0.8746, -0.2977,\n",
            "        -1.3707,  0.1150], grad_fn=<SelectBackward0>) ---> tensor([-1.3257,  0.1467,  0.1691, -1.5397, -0.7276,  1.1491, -0.8746, -0.2977,\n",
            "        -1.3707,  0.1150], grad_fn=<SelectBackward0>)\n",
            "tensor(1) --->  tensor([-0.4713,  0.7868, -0.3284, -0.4330,  1.3729,  2.9334,  1.5618, -1.6261,\n",
            "         0.6772, -0.8404], grad_fn=<SelectBackward0>) ---> tensor([-0.4713,  0.7868, -0.3284, -0.4330,  1.3729,  2.9334,  1.5618, -1.6261,\n",
            "         0.6772, -0.8404], grad_fn=<SelectBackward0>)\n",
            "tensor(0) --->  tensor([ 1.5674, -0.2373, -0.0274, -1.1008,  0.2859, -0.0296, -1.5471,  0.6049,\n",
            "         0.0791,  0.9046], grad_fn=<SelectBackward0>) ---> tensor([ 1.5674, -0.2373, -0.0274, -1.1008,  0.2859, -0.0296, -1.5471,  0.6049,\n",
            "         0.0791,  0.9046], grad_fn=<SelectBackward0>)\n",
            "tensor(0) --->  tensor([ 1.5674, -0.2373, -0.0274, -1.1008,  0.2859, -0.0296, -1.5471,  0.6049,\n",
            "         0.0791,  0.9046], grad_fn=<SelectBackward0>) ---> tensor([ 1.5674, -0.2373, -0.0274, -1.1008,  0.2859, -0.0296, -1.5471,  0.6049,\n",
            "         0.0791,  0.9046], grad_fn=<SelectBackward0>)\n",
            "tensor(1) --->  tensor([-0.4713,  0.7868, -0.3284, -0.4330,  1.3729,  2.9334,  1.5618, -1.6261,\n",
            "         0.6772, -0.8404], grad_fn=<SelectBackward0>) ---> tensor([-0.4713,  0.7868, -0.3284, -0.4330,  1.3729,  2.9334,  1.5618, -1.6261,\n",
            "         0.6772, -0.8404], grad_fn=<SelectBackward0>)\n",
            "tensor(0) --->  tensor([ 1.5674, -0.2373, -0.0274, -1.1008,  0.2859, -0.0296, -1.5471,  0.6049,\n",
            "         0.0791,  0.9046], grad_fn=<SelectBackward0>) ---> tensor([ 1.5674, -0.2373, -0.0274, -1.1008,  0.2859, -0.0296, -1.5471,  0.6049,\n",
            "         0.0791,  0.9046], grad_fn=<SelectBackward0>)\n",
            "tensor(0) --->  tensor([ 1.5674, -0.2373, -0.0274, -1.1008,  0.2859, -0.0296, -1.5471,  0.6049,\n",
            "         0.0791,  0.9046], grad_fn=<SelectBackward0>) ---> tensor([ 1.5674, -0.2373, -0.0274, -1.1008,  0.2859, -0.0296, -1.5471,  0.6049,\n",
            "         0.0791,  0.9046], grad_fn=<SelectBackward0>)\n",
            "tensor(15) --->  tensor([ 0.5557,  0.4746, -1.3867,  1.6229,  0.1720,  0.9885,  0.5066,  1.0198,\n",
            "        -1.9062, -0.4275], grad_fn=<SelectBackward0>) ---> tensor([ 0.5557,  0.4746, -1.3867,  1.6229,  0.1720,  0.9885,  0.5066,  1.0198,\n",
            "        -1.9062, -0.4275], grad_fn=<SelectBackward0>)\n",
            "tensor(12) --->  tensor([-0.5614, -0.1375, -0.1380, -2.0977, -0.7924,  0.6069, -1.4777, -0.5103,\n",
            "         0.5642,  0.9684], grad_fn=<SelectBackward0>) ---> tensor([-0.5614, -0.1375, -0.1380, -2.0977, -0.7924,  0.6069, -1.4777, -0.5103,\n",
            "         0.5642,  0.9684], grad_fn=<SelectBackward0>)\n",
            "tensor(1) --->  tensor([-0.4713,  0.7868, -0.3284, -0.4330,  1.3729,  2.9334,  1.5618, -1.6261,\n",
            "         0.6772, -0.8404], grad_fn=<SelectBackward0>) ---> tensor([-0.4713,  0.7868, -0.3284, -0.4330,  1.3729,  2.9334,  1.5618, -1.6261,\n",
            "         0.6772, -0.8404], grad_fn=<SelectBackward0>)\n",
            "tensor(14) --->  tensor([ 4.6827e-01, -6.5650e-01,  6.1662e-01, -6.2197e-01,  5.1007e-01,\n",
            "         1.3563e+00,  2.3445e-01, -4.5585e-01, -1.3132e-03, -5.1161e-01],\n",
            "       grad_fn=<SelectBackward0>) ---> tensor([ 4.6827e-01, -6.5650e-01,  6.1662e-01, -6.2197e-01,  5.1007e-01,\n",
            "         1.3563e+00,  2.3445e-01, -4.5585e-01, -1.3132e-03, -5.1161e-01],\n",
            "       grad_fn=<SelectBackward0>)\n",
            "tensor(1) --->  tensor([-0.4713,  0.7868, -0.3284, -0.4330,  1.3729,  2.9334,  1.5618, -1.6261,\n",
            "         0.6772, -0.8404], grad_fn=<SelectBackward0>) ---> tensor([-0.4713,  0.7868, -0.3284, -0.4330,  1.3729,  2.9334,  1.5618, -1.6261,\n",
            "         0.6772, -0.8404], grad_fn=<SelectBackward0>)\n",
            "tensor(18) --->  tensor([ 1.2815, -0.6318, -1.2464,  0.6830, -0.3946,  0.0144,  0.5722,  0.8673,\n",
            "         0.6315, -1.2230], grad_fn=<SelectBackward0>) ---> tensor([ 1.2815, -0.6318, -1.2464,  0.6830, -0.3946,  0.0144,  0.5722,  0.8673,\n",
            "         0.6315, -1.2230], grad_fn=<SelectBackward0>)\n",
            "tensor(9) --->  tensor([-1.3257,  0.1467,  0.1691, -1.5397, -0.7276,  1.1491, -0.8746, -0.2977,\n",
            "        -1.3707,  0.1150], grad_fn=<SelectBackward0>) ---> tensor([-1.3257,  0.1467,  0.1691, -1.5397, -0.7276,  1.1491, -0.8746, -0.2977,\n",
            "        -1.3707,  0.1150], grad_fn=<SelectBackward0>)\n",
            "tensor(0) --->  tensor([ 1.5674, -0.2373, -0.0274, -1.1008,  0.2859, -0.0296, -1.5471,  0.6049,\n",
            "         0.0791,  0.9046], grad_fn=<SelectBackward0>) ---> tensor([ 1.5674, -0.2373, -0.0274, -1.1008,  0.2859, -0.0296, -1.5471,  0.6049,\n",
            "         0.0791,  0.9046], grad_fn=<SelectBackward0>)\n",
            "tensor(0) --->  tensor([ 1.5674, -0.2373, -0.0274, -1.1008,  0.2859, -0.0296, -1.5471,  0.6049,\n",
            "         0.0791,  0.9046], grad_fn=<SelectBackward0>) ---> tensor([ 1.5674, -0.2373, -0.0274, -1.1008,  0.2859, -0.0296, -1.5471,  0.6049,\n",
            "         0.0791,  0.9046], grad_fn=<SelectBackward0>)\n",
            "tensor(0) --->  tensor([ 1.5674, -0.2373, -0.0274, -1.1008,  0.2859, -0.0296, -1.5471,  0.6049,\n",
            "         0.0791,  0.9046], grad_fn=<SelectBackward0>) ---> tensor([ 1.5674, -0.2373, -0.0274, -1.1008,  0.2859, -0.0296, -1.5471,  0.6049,\n",
            "         0.0791,  0.9046], grad_fn=<SelectBackward0>)\n",
            "tensor(8) --->  tensor([-1.1641,  1.2473, -0.2706, -1.3635,  1.3066,  0.3231,  1.0358, -0.8625,\n",
            "        -1.2575,  0.9418], grad_fn=<SelectBackward0>) ---> tensor([-1.1641,  1.2473, -0.2706, -1.3635,  1.3066,  0.3231,  1.0358, -0.8625,\n",
            "        -1.2575,  0.9418], grad_fn=<SelectBackward0>)\n",
            "tensor(1) --->  tensor([-0.4713,  0.7868, -0.3284, -0.4330,  1.3729,  2.9334,  1.5618, -1.6261,\n",
            "         0.6772, -0.8404], grad_fn=<SelectBackward0>) ---> tensor([-0.4713,  0.7868, -0.3284, -0.4330,  1.3729,  2.9334,  1.5618, -1.6261,\n",
            "         0.6772, -0.8404], grad_fn=<SelectBackward0>)\n",
            "tensor(12) --->  tensor([-0.5614, -0.1375, -0.1380, -2.0977, -0.7924,  0.6069, -1.4777, -0.5103,\n",
            "         0.5642,  0.9684], grad_fn=<SelectBackward0>) ---> tensor([-0.5614, -0.1375, -0.1380, -2.0977, -0.7924,  0.6069, -1.4777, -0.5103,\n",
            "         0.5642,  0.9684], grad_fn=<SelectBackward0>)\n",
            "tensor(9) --->  tensor([-1.3257,  0.1467,  0.1691, -1.5397, -0.7276,  1.1491, -0.8746, -0.2977,\n",
            "        -1.3707,  0.1150], grad_fn=<SelectBackward0>) ---> tensor([-1.3257,  0.1467,  0.1691, -1.5397, -0.7276,  1.1491, -0.8746, -0.2977,\n",
            "        -1.3707,  0.1150], grad_fn=<SelectBackward0>)\n",
            "tensor(19) --->  tensor([-0.2129,  0.5095,  0.3271,  1.9661, -0.2409, -0.7952,  0.2720, -1.1100,\n",
            "        -0.4528, -0.4958], grad_fn=<SelectBackward0>) ---> tensor([-0.2129,  0.5095,  0.3271,  1.9661, -0.2409, -0.7952,  0.2720, -1.1100,\n",
            "        -0.4528, -0.4958], grad_fn=<SelectBackward0>)\n",
            "tensor(12) --->  tensor([-0.5614, -0.1375, -0.1380, -2.0977, -0.7924,  0.6069, -1.4777, -0.5103,\n",
            "         0.5642,  0.9684], grad_fn=<SelectBackward0>) ---> tensor([-0.5614, -0.1375, -0.1380, -2.0977, -0.7924,  0.6069, -1.4777, -0.5103,\n",
            "         0.5642,  0.9684], grad_fn=<SelectBackward0>)\n",
            "tensor(23) --->  tensor([-1.0527, -0.1437, -0.2774,  1.1634, -0.6691,  0.6492,  0.5824,  1.9264,\n",
            "        -0.3785,  0.0080], grad_fn=<SelectBackward0>) ---> tensor([-1.0527, -0.1437, -0.2774,  1.1634, -0.6691,  0.6492,  0.5824,  1.9264,\n",
            "        -0.3785,  0.0080], grad_fn=<SelectBackward0>)\n",
            "tensor(5) --->  tensor([ 0.1156,  0.8032,  0.5411, -1.1646,  0.1476, -1.0006,  0.3801,  0.4733,\n",
            "        -0.9103, -0.7830], grad_fn=<SelectBackward0>) ---> tensor([ 0.1156,  0.8032,  0.5411, -1.1646,  0.1476, -1.0006,  0.3801,  0.4733,\n",
            "        -0.9103, -0.7830], grad_fn=<SelectBackward0>)\n",
            "tensor(14) --->  tensor([ 4.6827e-01, -6.5650e-01,  6.1662e-01, -6.2197e-01,  5.1007e-01,\n",
            "         1.3563e+00,  2.3445e-01, -4.5585e-01, -1.3132e-03, -5.1161e-01],\n",
            "       grad_fn=<SelectBackward0>) ---> tensor([ 4.6827e-01, -6.5650e-01,  6.1662e-01, -6.2197e-01,  5.1007e-01,\n",
            "         1.3563e+00,  2.3445e-01, -4.5585e-01, -1.3132e-03, -5.1161e-01],\n",
            "       grad_fn=<SelectBackward0>)\n",
            "tensor(0) --->  tensor([ 1.5674, -0.2373, -0.0274, -1.1008,  0.2859, -0.0296, -1.5471,  0.6049,\n",
            "         0.0791,  0.9046], grad_fn=<SelectBackward0>) ---> tensor([ 1.5674, -0.2373, -0.0274, -1.1008,  0.2859, -0.0296, -1.5471,  0.6049,\n",
            "         0.0791,  0.9046], grad_fn=<SelectBackward0>)\n",
            "tensor(0) --->  tensor([ 1.5674, -0.2373, -0.0274, -1.1008,  0.2859, -0.0296, -1.5471,  0.6049,\n",
            "         0.0791,  0.9046], grad_fn=<SelectBackward0>) ---> tensor([ 1.5674, -0.2373, -0.0274, -1.1008,  0.2859, -0.0296, -1.5471,  0.6049,\n",
            "         0.0791,  0.9046], grad_fn=<SelectBackward0>)\n",
            "tensor(0) --->  tensor([ 1.5674, -0.2373, -0.0274, -1.1008,  0.2859, -0.0296, -1.5471,  0.6049,\n",
            "         0.0791,  0.9046], grad_fn=<SelectBackward0>) ---> tensor([ 1.5674, -0.2373, -0.0274, -1.1008,  0.2859, -0.0296, -1.5471,  0.6049,\n",
            "         0.0791,  0.9046], grad_fn=<SelectBackward0>)\n",
            "tensor(13) --->  tensor([-0.3111, -0.3060, -1.7495, -1.6335,  0.3876,  0.4724,  1.4830,  0.3175,\n",
            "         1.0588,  2.3982], grad_fn=<SelectBackward0>) ---> tensor([-0.3111, -0.3060, -1.7495, -1.6335,  0.3876,  0.4724,  1.4830,  0.3175,\n",
            "         1.0588,  2.3982], grad_fn=<SelectBackward0>)\n",
            "tensor(1) --->  tensor([-0.4713,  0.7868, -0.3284, -0.4330,  1.3729,  2.9334,  1.5618, -1.6261,\n",
            "         0.6772, -0.8404], grad_fn=<SelectBackward0>) ---> tensor([-0.4713,  0.7868, -0.3284, -0.4330,  1.3729,  2.9334,  1.5618, -1.6261,\n",
            "         0.6772, -0.8404], grad_fn=<SelectBackward0>)\n",
            "tensor(11) --->  tensor([-0.5653,  0.5428,  0.1755, -2.2901, -0.7093, -0.2928, -2.1803,  0.0793,\n",
            "         0.9019,  1.2028], grad_fn=<SelectBackward0>) ---> tensor([-0.5653,  0.5428,  0.1755, -2.2901, -0.7093, -0.2928, -2.1803,  0.0793,\n",
            "         0.9019,  1.2028], grad_fn=<SelectBackward0>)\n",
            "tensor(13) --->  tensor([-0.3111, -0.3060, -1.7495, -1.6335,  0.3876,  0.4724,  1.4830,  0.3175,\n",
            "         1.0588,  2.3982], grad_fn=<SelectBackward0>) ---> tensor([-0.3111, -0.3060, -1.7495, -1.6335,  0.3876,  0.4724,  1.4830,  0.3175,\n",
            "         1.0588,  2.3982], grad_fn=<SelectBackward0>)\n",
            "tensor(9) --->  tensor([-1.3257,  0.1467,  0.1691, -1.5397, -0.7276,  1.1491, -0.8746, -0.2977,\n",
            "        -1.3707,  0.1150], grad_fn=<SelectBackward0>) ---> tensor([-1.3257,  0.1467,  0.1691, -1.5397, -0.7276,  1.1491, -0.8746, -0.2977,\n",
            "        -1.3707,  0.1150], grad_fn=<SelectBackward0>)\n",
            "tensor(12) --->  tensor([-0.5614, -0.1375, -0.1380, -2.0977, -0.7924,  0.6069, -1.4777, -0.5103,\n",
            "         0.5642,  0.9684], grad_fn=<SelectBackward0>) ---> tensor([-0.5614, -0.1375, -0.1380, -2.0977, -0.7924,  0.6069, -1.4777, -0.5103,\n",
            "         0.5642,  0.9684], grad_fn=<SelectBackward0>)\n",
            "tensor(23) --->  tensor([-1.0527, -0.1437, -0.2774,  1.1634, -0.6691,  0.6492,  0.5824,  1.9264,\n",
            "        -0.3785,  0.0080], grad_fn=<SelectBackward0>) ---> tensor([-1.0527, -0.1437, -0.2774,  1.1634, -0.6691,  0.6492,  0.5824,  1.9264,\n",
            "        -0.3785,  0.0080], grad_fn=<SelectBackward0>)\n",
            "tensor(25) --->  tensor([-1.2801,  0.0924,  0.1053, -0.3907,  0.0317, -0.5475,  0.8183, -0.8163,\n",
            "        -0.3924, -0.7452], grad_fn=<SelectBackward0>) ---> tensor([-1.2801,  0.0924,  0.1053, -0.3907,  0.0317, -0.5475,  0.8183, -0.8163,\n",
            "        -0.3924, -0.7452], grad_fn=<SelectBackward0>)\n",
            "tensor(14) --->  tensor([ 4.6827e-01, -6.5650e-01,  6.1662e-01, -6.2197e-01,  5.1007e-01,\n",
            "         1.3563e+00,  2.3445e-01, -4.5585e-01, -1.3132e-03, -5.1161e-01],\n",
            "       grad_fn=<SelectBackward0>) ---> tensor([ 4.6827e-01, -6.5650e-01,  6.1662e-01, -6.2197e-01,  5.1007e-01,\n",
            "         1.3563e+00,  2.3445e-01, -4.5585e-01, -1.3132e-03, -5.1161e-01],\n",
            "       grad_fn=<SelectBackward0>)\n",
            "tensor(0) --->  tensor([ 1.5674, -0.2373, -0.0274, -1.1008,  0.2859, -0.0296, -1.5471,  0.6049,\n",
            "         0.0791,  0.9046], grad_fn=<SelectBackward0>) ---> tensor([ 1.5674, -0.2373, -0.0274, -1.1008,  0.2859, -0.0296, -1.5471,  0.6049,\n",
            "         0.0791,  0.9046], grad_fn=<SelectBackward0>)\n",
            "tensor(0) --->  tensor([ 1.5674, -0.2373, -0.0274, -1.1008,  0.2859, -0.0296, -1.5471,  0.6049,\n",
            "         0.0791,  0.9046], grad_fn=<SelectBackward0>) ---> tensor([ 1.5674, -0.2373, -0.0274, -1.1008,  0.2859, -0.0296, -1.5471,  0.6049,\n",
            "         0.0791,  0.9046], grad_fn=<SelectBackward0>)\n",
            "tensor(20) --->  tensor([ 1.2648,  1.4625,  1.1199,  0.9954, -1.2353,  0.7382,  0.8142, -0.7381,\n",
            "         0.5671, -1.4601], grad_fn=<SelectBackward0>) ---> tensor([ 1.2648,  1.4625,  1.1199,  0.9954, -1.2353,  0.7382,  0.8142, -0.7381,\n",
            "         0.5671, -1.4601], grad_fn=<SelectBackward0>)\n",
            "tensor(0) --->  tensor([ 1.5674, -0.2373, -0.0274, -1.1008,  0.2859, -0.0296, -1.5471,  0.6049,\n",
            "         0.0791,  0.9046], grad_fn=<SelectBackward0>) ---> tensor([ 1.5674, -0.2373, -0.0274, -1.1008,  0.2859, -0.0296, -1.5471,  0.6049,\n",
            "         0.0791,  0.9046], grad_fn=<SelectBackward0>)\n",
            "tensor(12) --->  tensor([-0.5614, -0.1375, -0.1380, -2.0977, -0.7924,  0.6069, -1.4777, -0.5103,\n",
            "         0.5642,  0.9684], grad_fn=<SelectBackward0>) ---> tensor([-0.5614, -0.1375, -0.1380, -2.0977, -0.7924,  0.6069, -1.4777, -0.5103,\n",
            "         0.5642,  0.9684], grad_fn=<SelectBackward0>)\n",
            "tensor(5) --->  tensor([ 0.1156,  0.8032,  0.5411, -1.1646,  0.1476, -1.0006,  0.3801,  0.4733,\n",
            "        -0.9103, -0.7830], grad_fn=<SelectBackward0>) ---> tensor([ 0.1156,  0.8032,  0.5411, -1.1646,  0.1476, -1.0006,  0.3801,  0.4733,\n",
            "        -0.9103, -0.7830], grad_fn=<SelectBackward0>)\n",
            "tensor(0) --->  tensor([ 1.5674, -0.2373, -0.0274, -1.1008,  0.2859, -0.0296, -1.5471,  0.6049,\n",
            "         0.0791,  0.9046], grad_fn=<SelectBackward0>) ---> tensor([ 1.5674, -0.2373, -0.0274, -1.1008,  0.2859, -0.0296, -1.5471,  0.6049,\n",
            "         0.0791,  0.9046], grad_fn=<SelectBackward0>)\n",
            "tensor(0) --->  tensor([ 1.5674, -0.2373, -0.0274, -1.1008,  0.2859, -0.0296, -1.5471,  0.6049,\n",
            "         0.0791,  0.9046], grad_fn=<SelectBackward0>) ---> tensor([ 1.5674, -0.2373, -0.0274, -1.1008,  0.2859, -0.0296, -1.5471,  0.6049,\n",
            "         0.0791,  0.9046], grad_fn=<SelectBackward0>)\n",
            "tensor(12) --->  tensor([-0.5614, -0.1375, -0.1380, -2.0977, -0.7924,  0.6069, -1.4777, -0.5103,\n",
            "         0.5642,  0.9684], grad_fn=<SelectBackward0>) ---> tensor([-0.5614, -0.1375, -0.1380, -2.0977, -0.7924,  0.6069, -1.4777, -0.5103,\n",
            "         0.5642,  0.9684], grad_fn=<SelectBackward0>)\n",
            "tensor(0) --->  tensor([ 1.5674, -0.2373, -0.0274, -1.1008,  0.2859, -0.0296, -1.5471,  0.6049,\n",
            "         0.0791,  0.9046], grad_fn=<SelectBackward0>) ---> tensor([ 1.5674, -0.2373, -0.0274, -1.1008,  0.2859, -0.0296, -1.5471,  0.6049,\n",
            "         0.0791,  0.9046], grad_fn=<SelectBackward0>)\n",
            "tensor(0) --->  tensor([ 1.5674, -0.2373, -0.0274, -1.1008,  0.2859, -0.0296, -1.5471,  0.6049,\n",
            "         0.0791,  0.9046], grad_fn=<SelectBackward0>) ---> tensor([ 1.5674, -0.2373, -0.0274, -1.1008,  0.2859, -0.0296, -1.5471,  0.6049,\n",
            "         0.0791,  0.9046], grad_fn=<SelectBackward0>)\n",
            "tensor(0) --->  tensor([ 1.5674, -0.2373, -0.0274, -1.1008,  0.2859, -0.0296, -1.5471,  0.6049,\n",
            "         0.0791,  0.9046], grad_fn=<SelectBackward0>) ---> tensor([ 1.5674, -0.2373, -0.0274, -1.1008,  0.2859, -0.0296, -1.5471,  0.6049,\n",
            "         0.0791,  0.9046], grad_fn=<SelectBackward0>)\n",
            "tensor(0) --->  tensor([ 1.5674, -0.2373, -0.0274, -1.1008,  0.2859, -0.0296, -1.5471,  0.6049,\n",
            "         0.0791,  0.9046], grad_fn=<SelectBackward0>) ---> tensor([ 1.5674, -0.2373, -0.0274, -1.1008,  0.2859, -0.0296, -1.5471,  0.6049,\n",
            "         0.0791,  0.9046], grad_fn=<SelectBackward0>)\n",
            "tensor(1) --->  tensor([-0.4713,  0.7868, -0.3284, -0.4330,  1.3729,  2.9334,  1.5618, -1.6261,\n",
            "         0.6772, -0.8404], grad_fn=<SelectBackward0>) ---> tensor([-0.4713,  0.7868, -0.3284, -0.4330,  1.3729,  2.9334,  1.5618, -1.6261,\n",
            "         0.6772, -0.8404], grad_fn=<SelectBackward0>)\n",
            "tensor(26) --->  tensor([-0.9465, -0.1594, -0.1934, -0.3766, -0.0492,  0.0939, -0.6453,  1.2108,\n",
            "        -0.7820,  0.3845], grad_fn=<SelectBackward0>) ---> tensor([-0.9465, -0.1594, -0.1934, -0.3766, -0.0492,  0.0939, -0.6453,  1.2108,\n",
            "        -0.7820,  0.3845], grad_fn=<SelectBackward0>)\n",
            "tensor(3) --->  tensor([-1.0725,  0.7276,  0.0511,  1.3095, -0.8022, -0.8504, -1.8068,  1.2523,\n",
            "        -1.2256,  1.2165], grad_fn=<SelectBackward0>) ---> tensor([-1.0725,  0.7276,  0.0511,  1.3095, -0.8022, -0.8504, -1.8068,  1.2523,\n",
            "        -1.2256,  1.2165], grad_fn=<SelectBackward0>)\n",
            "tensor(9) --->  tensor([-1.3257,  0.1467,  0.1691, -1.5397, -0.7276,  1.1491, -0.8746, -0.2977,\n",
            "        -1.3707,  0.1150], grad_fn=<SelectBackward0>) ---> tensor([-1.3257,  0.1467,  0.1691, -1.5397, -0.7276,  1.1491, -0.8746, -0.2977,\n",
            "        -1.3707,  0.1150], grad_fn=<SelectBackward0>)\n",
            "tensor(1) --->  tensor([-0.4713,  0.7868, -0.3284, -0.4330,  1.3729,  2.9334,  1.5618, -1.6261,\n",
            "         0.6772, -0.8404], grad_fn=<SelectBackward0>) ---> tensor([-0.4713,  0.7868, -0.3284, -0.4330,  1.3729,  2.9334,  1.5618, -1.6261,\n",
            "         0.6772, -0.8404], grad_fn=<SelectBackward0>)\n",
            "tensor(0) --->  tensor([ 1.5674, -0.2373, -0.0274, -1.1008,  0.2859, -0.0296, -1.5471,  0.6049,\n",
            "         0.0791,  0.9046], grad_fn=<SelectBackward0>) ---> tensor([ 1.5674, -0.2373, -0.0274, -1.1008,  0.2859, -0.0296, -1.5471,  0.6049,\n",
            "         0.0791,  0.9046], grad_fn=<SelectBackward0>)\n",
            "tensor(0) --->  tensor([ 1.5674, -0.2373, -0.0274, -1.1008,  0.2859, -0.0296, -1.5471,  0.6049,\n",
            "         0.0791,  0.9046], grad_fn=<SelectBackward0>) ---> tensor([ 1.5674, -0.2373, -0.0274, -1.1008,  0.2859, -0.0296, -1.5471,  0.6049,\n",
            "         0.0791,  0.9046], grad_fn=<SelectBackward0>)\n",
            "tensor(1) --->  tensor([-0.4713,  0.7868, -0.3284, -0.4330,  1.3729,  2.9334,  1.5618, -1.6261,\n",
            "         0.6772, -0.8404], grad_fn=<SelectBackward0>) ---> tensor([-0.4713,  0.7868, -0.3284, -0.4330,  1.3729,  2.9334,  1.5618, -1.6261,\n",
            "         0.6772, -0.8404], grad_fn=<SelectBackward0>)\n",
            "tensor(18) --->  tensor([ 1.2815, -0.6318, -1.2464,  0.6830, -0.3946,  0.0144,  0.5722,  0.8673,\n",
            "         0.6315, -1.2230], grad_fn=<SelectBackward0>) ---> tensor([ 1.2815, -0.6318, -1.2464,  0.6830, -0.3946,  0.0144,  0.5722,  0.8673,\n",
            "         0.6315, -1.2230], grad_fn=<SelectBackward0>)\n",
            "tensor(1) --->  tensor([-0.4713,  0.7868, -0.3284, -0.4330,  1.3729,  2.9334,  1.5618, -1.6261,\n",
            "         0.6772, -0.8404], grad_fn=<SelectBackward0>) ---> tensor([-0.4713,  0.7868, -0.3284, -0.4330,  1.3729,  2.9334,  1.5618, -1.6261,\n",
            "         0.6772, -0.8404], grad_fn=<SelectBackward0>)\n",
            "tensor(8) --->  tensor([-1.1641,  1.2473, -0.2706, -1.3635,  1.3066,  0.3231,  1.0358, -0.8625,\n",
            "        -1.2575,  0.9418], grad_fn=<SelectBackward0>) ---> tensor([-1.1641,  1.2473, -0.2706, -1.3635,  1.3066,  0.3231,  1.0358, -0.8625,\n",
            "        -1.2575,  0.9418], grad_fn=<SelectBackward0>)\n",
            "tensor(26) --->  tensor([-0.9465, -0.1594, -0.1934, -0.3766, -0.0492,  0.0939, -0.6453,  1.2108,\n",
            "        -0.7820,  0.3845], grad_fn=<SelectBackward0>) ---> tensor([-0.9465, -0.1594, -0.1934, -0.3766, -0.0492,  0.0939, -0.6453,  1.2108,\n",
            "        -0.7820,  0.3845], grad_fn=<SelectBackward0>)\n",
            "tensor(9) --->  tensor([-1.3257,  0.1467,  0.1691, -1.5397, -0.7276,  1.1491, -0.8746, -0.2977,\n",
            "        -1.3707,  0.1150], grad_fn=<SelectBackward0>) ---> tensor([-1.3257,  0.1467,  0.1691, -1.5397, -0.7276,  1.1491, -0.8746, -0.2977,\n",
            "        -1.3707,  0.1150], grad_fn=<SelectBackward0>)\n",
            "tensor(18) --->  tensor([ 1.2815, -0.6318, -1.2464,  0.6830, -0.3946,  0.0144,  0.5722,  0.8673,\n",
            "         0.6315, -1.2230], grad_fn=<SelectBackward0>) ---> tensor([ 1.2815, -0.6318, -1.2464,  0.6830, -0.3946,  0.0144,  0.5722,  0.8673,\n",
            "         0.6315, -1.2230], grad_fn=<SelectBackward0>)\n",
            "tensor(18) --->  tensor([ 1.2815, -0.6318, -1.2464,  0.6830, -0.3946,  0.0144,  0.5722,  0.8673,\n",
            "         0.6315, -1.2230], grad_fn=<SelectBackward0>) ---> tensor([ 1.2815, -0.6318, -1.2464,  0.6830, -0.3946,  0.0144,  0.5722,  0.8673,\n",
            "         0.6315, -1.2230], grad_fn=<SelectBackward0>)\n",
            "tensor(5) --->  tensor([ 0.1156,  0.8032,  0.5411, -1.1646,  0.1476, -1.0006,  0.3801,  0.4733,\n",
            "        -0.9103, -0.7830], grad_fn=<SelectBackward0>) ---> tensor([ 0.1156,  0.8032,  0.5411, -1.1646,  0.1476, -1.0006,  0.3801,  0.4733,\n",
            "        -0.9103, -0.7830], grad_fn=<SelectBackward0>)\n",
            "tensor(9) --->  tensor([-1.3257,  0.1467,  0.1691, -1.5397, -0.7276,  1.1491, -0.8746, -0.2977,\n",
            "        -1.3707,  0.1150], grad_fn=<SelectBackward0>) ---> tensor([-1.3257,  0.1467,  0.1691, -1.5397, -0.7276,  1.1491, -0.8746, -0.2977,\n",
            "        -1.3707,  0.1150], grad_fn=<SelectBackward0>)\n",
            "tensor(15) --->  tensor([ 0.5557,  0.4746, -1.3867,  1.6229,  0.1720,  0.9885,  0.5066,  1.0198,\n",
            "        -1.9062, -0.4275], grad_fn=<SelectBackward0>) ---> tensor([ 0.5557,  0.4746, -1.3867,  1.6229,  0.1720,  0.9885,  0.5066,  1.0198,\n",
            "        -1.9062, -0.4275], grad_fn=<SelectBackward0>)\n",
            "tensor(13) --->  tensor([-0.3111, -0.3060, -1.7495, -1.6335,  0.3876,  0.4724,  1.4830,  0.3175,\n",
            "         1.0588,  2.3982], grad_fn=<SelectBackward0>) ---> tensor([-0.3111, -0.3060, -1.7495, -1.6335,  0.3876,  0.4724,  1.4830,  0.3175,\n",
            "         1.0588,  2.3982], grad_fn=<SelectBackward0>)\n",
            "tensor(9) --->  tensor([-1.3257,  0.1467,  0.1691, -1.5397, -0.7276,  1.1491, -0.8746, -0.2977,\n",
            "        -1.3707,  0.1150], grad_fn=<SelectBackward0>) ---> tensor([-1.3257,  0.1467,  0.1691, -1.5397, -0.7276,  1.1491, -0.8746, -0.2977,\n",
            "        -1.3707,  0.1150], grad_fn=<SelectBackward0>)\n",
            "tensor(0) --->  tensor([ 1.5674, -0.2373, -0.0274, -1.1008,  0.2859, -0.0296, -1.5471,  0.6049,\n",
            "         0.0791,  0.9046], grad_fn=<SelectBackward0>) ---> tensor([ 1.5674, -0.2373, -0.0274, -1.1008,  0.2859, -0.0296, -1.5471,  0.6049,\n",
            "         0.0791,  0.9046], grad_fn=<SelectBackward0>)\n",
            "tensor(5) --->  tensor([ 0.1156,  0.8032,  0.5411, -1.1646,  0.1476, -1.0006,  0.3801,  0.4733,\n",
            "        -0.9103, -0.7830], grad_fn=<SelectBackward0>) ---> tensor([ 0.1156,  0.8032,  0.5411, -1.1646,  0.1476, -1.0006,  0.3801,  0.4733,\n",
            "        -0.9103, -0.7830], grad_fn=<SelectBackward0>)\n",
            "tensor(9) --->  tensor([-1.3257,  0.1467,  0.1691, -1.5397, -0.7276,  1.1491, -0.8746, -0.2977,\n",
            "        -1.3707,  0.1150], grad_fn=<SelectBackward0>) ---> tensor([-1.3257,  0.1467,  0.1691, -1.5397, -0.7276,  1.1491, -0.8746, -0.2977,\n",
            "        -1.3707,  0.1150], grad_fn=<SelectBackward0>)\n",
            "tensor(1) --->  tensor([-0.4713,  0.7868, -0.3284, -0.4330,  1.3729,  2.9334,  1.5618, -1.6261,\n",
            "         0.6772, -0.8404], grad_fn=<SelectBackward0>) ---> tensor([-0.4713,  0.7868, -0.3284, -0.4330,  1.3729,  2.9334,  1.5618, -1.6261,\n",
            "         0.6772, -0.8404], grad_fn=<SelectBackward0>)\n",
            "tensor(1) --->  tensor([-0.4713,  0.7868, -0.3284, -0.4330,  1.3729,  2.9334,  1.5618, -1.6261,\n",
            "         0.6772, -0.8404], grad_fn=<SelectBackward0>) ---> tensor([-0.4713,  0.7868, -0.3284, -0.4330,  1.3729,  2.9334,  1.5618, -1.6261,\n",
            "         0.6772, -0.8404], grad_fn=<SelectBackward0>)\n",
            "tensor(4) --->  tensor([-0.9648, -0.2321, -0.3476,  0.3324, -1.3263,  1.1224,  0.5964,  0.4585,\n",
            "         0.0540, -1.7400], grad_fn=<SelectBackward0>) ---> tensor([-0.9648, -0.2321, -0.3476,  0.3324, -1.3263,  1.1224,  0.5964,  0.4585,\n",
            "         0.0540, -1.7400], grad_fn=<SelectBackward0>)\n",
            "tensor(18) --->  tensor([ 1.2815, -0.6318, -1.2464,  0.6830, -0.3946,  0.0144,  0.5722,  0.8673,\n",
            "         0.6315, -1.2230], grad_fn=<SelectBackward0>) ---> tensor([ 1.2815, -0.6318, -1.2464,  0.6830, -0.3946,  0.0144,  0.5722,  0.8673,\n",
            "         0.6315, -1.2230], grad_fn=<SelectBackward0>)\n",
            "tensor(5) --->  tensor([ 0.1156,  0.8032,  0.5411, -1.1646,  0.1476, -1.0006,  0.3801,  0.4733,\n",
            "        -0.9103, -0.7830], grad_fn=<SelectBackward0>) ---> tensor([ 0.1156,  0.8032,  0.5411, -1.1646,  0.1476, -1.0006,  0.3801,  0.4733,\n",
            "        -0.9103, -0.7830], grad_fn=<SelectBackward0>)\n",
            "tensor(14) --->  tensor([ 4.6827e-01, -6.5650e-01,  6.1662e-01, -6.2197e-01,  5.1007e-01,\n",
            "         1.3563e+00,  2.3445e-01, -4.5585e-01, -1.3132e-03, -5.1161e-01],\n",
            "       grad_fn=<SelectBackward0>) ---> tensor([ 4.6827e-01, -6.5650e-01,  6.1662e-01, -6.2197e-01,  5.1007e-01,\n",
            "         1.3563e+00,  2.3445e-01, -4.5585e-01, -1.3132e-03, -5.1161e-01],\n",
            "       grad_fn=<SelectBackward0>)\n",
            "tensor(0) --->  tensor([ 1.5674, -0.2373, -0.0274, -1.1008,  0.2859, -0.0296, -1.5471,  0.6049,\n",
            "         0.0791,  0.9046], grad_fn=<SelectBackward0>) ---> tensor([ 1.5674, -0.2373, -0.0274, -1.1008,  0.2859, -0.0296, -1.5471,  0.6049,\n",
            "         0.0791,  0.9046], grad_fn=<SelectBackward0>)\n",
            "tensor(0) --->  tensor([ 1.5674, -0.2373, -0.0274, -1.1008,  0.2859, -0.0296, -1.5471,  0.6049,\n",
            "         0.0791,  0.9046], grad_fn=<SelectBackward0>) ---> tensor([ 1.5674, -0.2373, -0.0274, -1.1008,  0.2859, -0.0296, -1.5471,  0.6049,\n",
            "         0.0791,  0.9046], grad_fn=<SelectBackward0>)\n",
            "tensor(0) --->  tensor([ 1.5674, -0.2373, -0.0274, -1.1008,  0.2859, -0.0296, -1.5471,  0.6049,\n",
            "         0.0791,  0.9046], grad_fn=<SelectBackward0>) ---> tensor([ 1.5674, -0.2373, -0.0274, -1.1008,  0.2859, -0.0296, -1.5471,  0.6049,\n",
            "         0.0791,  0.9046], grad_fn=<SelectBackward0>)\n"
          ]
        }
      ]
    },
    {
      "cell_type": "code",
      "source": [
        "dC = torch.zeros_like(C)\n",
        "dC[Xb].shape"
      ],
      "metadata": {
        "colab": {
          "base_uri": "https://localhost:8080/"
        },
        "id": "O3K_92GX4snc",
        "outputId": "3381d226-bc71-49d6-fa79-ce856555897d"
      },
      "execution_count": 169,
      "outputs": [
        {
          "output_type": "execute_result",
          "data": {
            "text/plain": [
              "torch.Size([32, 3, 10])"
            ]
          },
          "metadata": {},
          "execution_count": 169
        }
      ]
    },
    {
      "cell_type": "code",
      "source": [
        "emb.shape, C.shape, C[Xb][1,0], C.grad.shape"
      ],
      "metadata": {
        "colab": {
          "base_uri": "https://localhost:8080/"
        },
        "id": "Rd977YlizSYg",
        "outputId": "bae46d26-ec48-4555-bdff-b8f23c3039bc"
      },
      "execution_count": 170,
      "outputs": [
        {
          "output_type": "execute_result",
          "data": {
            "text/plain": [
              "(torch.Size([32, 3, 10]),\n",
              " torch.Size([27, 10]),\n",
              " tensor([-0.4713,  0.7868, -0.3284, -0.4330,  1.3729,  2.9334,  1.5618, -1.6261,\n",
              "          0.6772, -0.8404], grad_fn=<SelectBackward0>),\n",
              " torch.Size([27, 10]))"
            ]
          },
          "metadata": {},
          "execution_count": 170
        }
      ]
    },
    {
      "cell_type": "markdown",
      "source": [
        "# Matrix Multiply | Element-wise multiplication between matrices\n",
        "**Matrix Multiply**\n",
        "between matrices A & B = dot product between A-rows and B-columns\n",
        "\n",
        "**Element-wise mulitplication**\n",
        "Each element\n",
        "𝑎\n",
        "𝑖\n",
        "𝑗\n",
        "a\n",
        "ij\n",
        "​\n",
        "  from the broadcasted tensor a is multiplied with the corresponding element\n",
        "𝑏\n",
        "𝑖\n",
        "𝑗\n",
        "b\n",
        "ij\n",
        "​\n",
        "  from tensor b.\n",
        "Result is a new tensor c of shape (32, 64) where each element\n",
        "𝑐\n",
        "𝑖\n",
        "𝑗\n",
        "=\n",
        "𝑎\n",
        "𝑖\n",
        "𝑗\n",
        "×\n",
        "𝑏\n",
        "𝑖\n",
        "𝑗\n",
        "c\n",
        "ij\n",
        "​\n",
        " =a\n",
        "ij\n",
        "​\n",
        " ×b\n",
        "ij\n",
        "​\n",
        ""
      ],
      "metadata": {
        "id": "sT0-cehzCpB-"
      }
    },
    {
      "cell_type": "code",
      "source": [
        "# @title Example 2: backprop thorugh cross_entropy but all in one go\n",
        "# to complete this challenge look at the mathematical expression of the loss,\n",
        "# take the derivative, simplify the expression, and just write it out\n",
        "\n",
        "# forward pass\n",
        "# norm_logits = logits - logit_maxes\n",
        "# counts = norm_logits.exp()\n",
        "# counts_sum = counts.sum(1, keepdim=True)\n",
        "# counts_sum_inv = counts_sum**-1\n",
        "# probs = counts * counts_sum_inv\n",
        "# logprobs = probs.log()\n",
        "# loss = -logprobs[range(n), Yb].mean()\n",
        "\n",
        "# now\n",
        "loss_fast = F.cross_entropy(logits, Yb)\n",
        "print(loss_fast.item(), 'diff:', (loss_fast - loss).item())\n"
      ],
      "metadata": {
        "colab": {
          "base_uri": "https://localhost:8080/"
        },
        "id": "Ii1FDPj4Z44P",
        "outputId": "407b7b64-9cee-4f84-f705-59b141859608"
      },
      "execution_count": 171,
      "outputs": [
        {
          "output_type": "stream",
          "name": "stdout",
          "text": [
            "3.282268524169922 diff: 2.384185791015625e-07\n"
          ]
        }
      ]
    },
    {
      "cell_type": "code",
      "source": [
        "# backward_pass\n",
        "\n",
        "# Here we reduce all the work we did in the steps below, as part of Exercise 1, into a single line\n",
        "# dlogprobs = torch.zeros_like(logprobs)\n",
        "# dlogprobs[range(n), Yb] = -1.0/n\n",
        "# dprobs = (1.0 / probs) * dlogprobs\n",
        "# dcounts_sum_inv = (counts * dprobs).sum(1, keepdim=True)\n",
        "# dcounts = counts_sum_inv * dprobs\n",
        "# dcounts_sum = (-counts_sum**-2) * dcounts_sum_inv\n",
        "# dnorm_logits = counts * dcounts\n",
        "# dlogit_maxes = (-dnorm_logits).sum(1, keepdim=True)\n",
        "# dlogits = dnorm_logits.clone()\n",
        "# dlogits += F.one_hot(logits.max(1).indices, num_classes=logits.shape[1]) * dlogit_maxes\n",
        "\n",
        "# First: Reduce this loss function into a simple single line loss function\n",
        "# logit_maxes = logits.max(1, keepdim=True).values\n",
        "# norm_logits = logits - logit_maxes\n",
        "# counts = norm_logits.exp()\n",
        "# counts_sum = counts.sum(1, keepdim=True)\n",
        "# counts_sum_inv = counts_sum**-1\n",
        "# probs = counts * counts_sum_inv\n",
        "# logprobs = probs.log()\n",
        "# loss = -logprobs[range(n), Yb].mean()\n",
        "loss_softmax = - (torch.exp(logits)/(torch.exp(logits).sum(1, keepdim=True)))[range(n), Yb].log().mean()\n",
        "\n",
        "print(loss_softmax.item(), 'diff:', (loss_softmax - loss).item())\n",
        "# Next: Differentiate through it\n",
        "dlogits = (torch.exp(logits)/(torch.exp(logits).sum(1, keepdim=True)))\n",
        "dlogits[range(n), Yb] -= 1.0\n",
        "dlogits /= n\n",
        "\n",
        "# Understanding the gradient calculation for loss  wrt to logits i.e. dloss/dlogits\n",
        "# Seperating out the 2 conditions: if the index inside logits = Yb (output label) | index inside logits != Yb (output label)\n",
        "# in Condition 1: gradient of the loss wrt to the index inside logits = Yb, is = (softmax - 1.0)/n\n",
        "# in Condition 2: gradient of the loss wrt to the index inside logits != Yb (output label), is = softmax/n\n",
        "# where division by n counters the sum across n batches in the forward pass\n",
        "\n",
        "# Another implementation\n",
        "# dlogits = F.softmax(logits, 1)\n",
        "# dlogits[range(n), Yb] -= 1.0\n",
        "# dlogits /= n\n",
        "cmp('logits', dlogits, logits)"
      ],
      "metadata": {
        "colab": {
          "base_uri": "https://localhost:8080/"
        },
        "id": "O8-4Jlm3dmsB",
        "outputId": "c739684e-2c43-49cf-9164-3dedfc07603b"
      },
      "execution_count": 172,
      "outputs": [
        {
          "output_type": "stream",
          "name": "stdout",
          "text": [
            "3.2822682857513428 diff: 0.0\n",
            "logits          | exact: False | approximate: True  | maxdiff: 7.916241884231567e-09\n"
          ]
        }
      ]
    },
    {
      "cell_type": "code",
      "source": [
        "# calculating the probabilities of the logits\n",
        "# and just taking the 1st row\n",
        "F.softmax(logits, 1)[0]"
      ],
      "metadata": {
        "colab": {
          "base_uri": "https://localhost:8080/"
        },
        "id": "0o_ao06edzf1",
        "outputId": "0a6f7020-4eb3-4ac7-b0e4-7c388f64753b"
      },
      "execution_count": 173,
      "outputs": [
        {
          "output_type": "execute_result",
          "data": {
            "text/plain": [
              "tensor([0.0178, 0.0145, 0.0508, 0.0161, 0.0339, 0.0174, 0.0816, 0.0371, 0.0508,\n",
              "        0.0499, 0.0216, 0.0309, 0.0339, 0.0335, 0.0205, 0.0525, 0.0615, 0.0487,\n",
              "        0.0381, 0.0218, 0.0399, 0.0339, 0.0954, 0.0104, 0.0229, 0.0347, 0.0299],\n",
              "       grad_fn=<SelectBackward0>)"
            ]
          },
          "metadata": {},
          "execution_count": 173
        }
      ]
    },
    {
      "cell_type": "code",
      "source": [
        "# if we take the gradient of the 1st row * multiple by n to undo the scaling\n",
        "# we get the actual probabilities\n",
        "dlogits[0] * n"
      ],
      "metadata": {
        "colab": {
          "base_uri": "https://localhost:8080/"
        },
        "id": "V5WBt75RZUxn",
        "outputId": "eb9a9afe-90e2-4c86-be9a-b6a8499b76ce"
      },
      "execution_count": 174,
      "outputs": [
        {
          "output_type": "execute_result",
          "data": {
            "text/plain": [
              "tensor([ 0.0178,  0.0145,  0.0508,  0.0161,  0.0339, -0.9826,  0.0816,  0.0371,\n",
              "         0.0508,  0.0499,  0.0216,  0.0309,  0.0339,  0.0335,  0.0205,  0.0525,\n",
              "         0.0615,  0.0487,  0.0381,  0.0218,  0.0399,  0.0339,  0.0954,  0.0104,\n",
              "         0.0229,  0.0347,  0.0299], grad_fn=<MulBackward0>)"
            ]
          },
          "metadata": {},
          "execution_count": 174
        }
      ]
    },
    {
      "cell_type": "code",
      "source": [
        "# and it can be noticed that the only for the index = Yb has a ~ -1.0\n",
        "# what does that mean that the gradient is putting a collective effort to reduce the\n",
        "# and sum of dlogits should =~ 1.0\n",
        "dlogits.sum()"
      ],
      "metadata": {
        "colab": {
          "base_uri": "https://localhost:8080/"
        },
        "id": "gQKA_Hj8iYvB",
        "outputId": "898dbd03-30c5-449a-f9b7-6884cbfd6920"
      },
      "execution_count": 175,
      "outputs": [
        {
          "output_type": "execute_result",
          "data": {
            "text/plain": [
              "tensor(-3.7253e-09, grad_fn=<SumBackward0>)"
            ]
          },
          "metadata": {},
          "execution_count": 175
        }
      ]
    },
    {
      "cell_type": "code",
      "source": [
        "# this can be thought of as the gradient at each cell as a force\n",
        "# since during training gradient is applied as - leraning_rate * gradient\n",
        "# its trying to make the logit of the correct index/cell as close to 0 as possible so that e^0 = 1 i.e. gets a higher probability\n",
        "# and is trying to pull the values of the other cells/indexes down, for a given example\n",
        "# with the collective force summing up to 0.0"
      ],
      "metadata": {
        "id": "VQrvwbMJijSD"
      },
      "execution_count": 176,
      "outputs": []
    },
    {
      "cell_type": "code",
      "source": [
        "plt.figure(figsize=(8, 8))\n",
        "plt.imshow(dlogits.detach(), cmap='gray')\n",
        "\n",
        "# black squares are the indices where we performed -= 1.0"
      ],
      "metadata": {
        "colab": {
          "base_uri": "https://localhost:8080/",
          "height": 693
        },
        "id": "4eUXObBgdVkW",
        "outputId": "b3c769c9-acda-40da-e9ef-72767d0252b8"
      },
      "execution_count": 177,
      "outputs": [
        {
          "output_type": "execute_result",
          "data": {
            "text/plain": [
              "<matplotlib.image.AxesImage at 0x7d2d307f5570>"
            ]
          },
          "metadata": {},
          "execution_count": 177
        },
        {
          "output_type": "display_data",
          "data": {
            "text/plain": [
              "<Figure size 800x800 with 1 Axes>"
            ],
            "image/png": "[encoded data removed]"
          },
          "metadata": {}
        }
      ]
    },
    {
      "cell_type": "code",
      "source": [
        "# @title Exercise 3: backprop through batchnorm but all in one go\n",
        "# to complete this challenge look at the mathematical expression of the output of batchnorm,\n",
        "# take a derivative w.r.t. its input, simplify the expression, and just write it out\n",
        "\n",
        "# forward pass\n",
        "\n",
        "# Before:\n",
        "# bnmeani = 1/n*hprebn.sum(0, keepdim=True)\n",
        "# bndiff = hprebn - bnmeani\n",
        "# bndiff2 = bndiff**2\n",
        "# bnvar = 1/(n-1)*(bndiff2).sum(0, keepdim=True) # note: Bessel's correction (dividing by n-1, not n)\n",
        "# bnvar_inv = (bnvar + 1e-5)**-0.5\n",
        "# bnraw = bndiff * bnvar_inv\n",
        "# hpreact = bngain * bnraw + bnbias\n",
        "\n",
        "# Now:\n",
        "# # Mthod 1:\n",
        "# bndiff_fast = (hprebn - hprebn.mean(0, keepdim=True))\n",
        "# print('bndiff_fast', 'diff:', torch.all(bndiff_fast == bndiff))\n",
        "\n",
        "# bnvar_fast = ((1/(n-1))*(((hprebn - hprebn.mean(0, keepdim=True))**2).sum(0, keepdim=True)))\n",
        "# print('bnvar_fast', 'diff:', torch.all(bnvar_fast == bnvar))\n",
        "\n",
        "# bnraw_fast_1 = bndiff_fast * (bnvar_fast + 1e-5)**-0.5\n",
        "# print('bnraw_fast_1', 'diff:', torch.all(bnraw_fast_1 == bnraw))\n",
        "\n",
        "# bnraw_fast = (hprebn - hprebn.mean(0, keepdim=True)) / torch.sqrt(((1/(n-1))*(((hprebn - hprebn.mean(0, keepdim=True))**2).sum(0, keepdim=True))) + 1e-5)\n",
        "\n",
        "# Method 2:\n",
        "bnraw_fast = (hprebn - hprebn.mean(0, keepdim=True)) / torch.sqrt(hprebn.var(0, keepdim=True, correction=1))\n",
        "print('bnraw_fast', 'diff:', torch.all(bnraw_fast == bnraw))\n",
        "\n",
        "hpreact_fast = bngain * bnraw_fast + bnbias\n",
        "print('hpreact_fast', 'diff:', torch.all(hpreact_fast == hpreact))\n",
        "\n",
        "print('max diff:', (hpreact_fast - hpreact).abs().max())"
      ],
      "metadata": {
        "colab": {
          "base_uri": "https://localhost:8080/"
        },
        "id": "iTZLypkvJU7x",
        "outputId": "e4d230e9-5383-401b-c7d9-280df3169082"
      },
      "execution_count": 178,
      "outputs": [
        {
          "output_type": "stream",
          "name": "stdout",
          "text": [
            "bnraw_fast diff: tensor(False)\n",
            "hpreact_fast diff: tensor(False)\n",
            "max diff: tensor(2.5749e-05, grad_fn=<MaxBackward1>)\n"
          ]
        }
      ]
    },
    {
      "cell_type": "code",
      "source": [
        "hprebn.var(0, keepdim=True), bnvar"
      ],
      "metadata": {
        "colab": {
          "base_uri": "https://localhost:8080/"
        },
        "id": "e4Y785p7RUsC",
        "outputId": "607010e5-d65e-4bfe-9496-ea7d7bc3bf4a"
      },
      "execution_count": 179,
      "outputs": [
        {
          "output_type": "execute_result",
          "data": {
            "text/plain": [
              "(tensor([[3.1335, 2.0495, 2.3350, 1.2706, 5.2063, 1.9729, 2.5762, 2.9609, 0.8553,\n",
              "          0.9468, 1.2785, 1.8114, 3.3689, 1.6224, 0.7143, 2.3032, 3.3543, 6.5057,\n",
              "          1.3057, 4.4658, 3.5887, 1.7295, 3.0513, 2.4652, 1.2883, 2.9347, 2.0102,\n",
              "          1.7779, 3.4728, 2.0461, 1.9141, 2.4270, 2.6702, 2.4235, 3.0248, 2.4040,\n",
              "          2.9726, 3.6039, 0.3378, 1.2289, 0.8259, 3.4072, 2.2100, 1.4483, 2.1420,\n",
              "          1.8644, 2.2749, 1.6203, 1.0987, 2.6631, 2.1233, 0.9670, 2.5863, 4.7339,\n",
              "          1.7726, 3.4225, 1.3726, 1.6840, 2.6751, 0.8119, 2.7571, 1.9284, 2.6743,\n",
              "          2.2856]], grad_fn=<VarBackward0>),\n",
              " tensor([[3.1335, 2.0495, 2.3350, 1.2706, 5.2063, 1.9729, 2.5762, 2.9609, 0.8553,\n",
              "          0.9468, 1.2785, 1.8114, 3.3689, 1.6224, 0.7143, 2.3032, 3.3543, 6.5057,\n",
              "          1.3057, 4.4658, 3.5887, 1.7295, 3.0513, 2.4652, 1.2883, 2.9347, 2.0102,\n",
              "          1.7779, 3.4728, 2.0461, 1.9141, 2.4270, 2.6702, 2.4235, 3.0248, 2.4040,\n",
              "          2.9726, 3.6039, 0.3378, 1.2289, 0.8259, 3.4072, 2.2100, 1.4483, 2.1420,\n",
              "          1.8644, 2.2749, 1.6203, 1.0987, 2.6631, 2.1233, 0.9670, 2.5863, 4.7339,\n",
              "          1.7726, 3.4225, 1.3726, 1.6840, 2.6751, 0.8119, 2.7571, 1.9284, 2.6743,\n",
              "          2.2856]], grad_fn=<MulBackward0>))"
            ]
          },
          "metadata": {},
          "execution_count": 179
        }
      ]
    },
    {
      "cell_type": "code",
      "source": [
        "# backward pass over batchnorm\n",
        "\n",
        "# Before:\n",
        "# dhpreact = (1.0 - h**2) * dh\n",
        "# dbngain = (dhpreact * bnraw).sum(0, keepdim=True)\n",
        "# dbnraw = bngain * dhpreact\n",
        "# dbnbias = (dhpreact).sum(0, keepdim=True) # bnbias was broadcasted to all 32 rows(examples), so the gradient is summed up in that direction\n",
        "# dbnvar_inv = (bndiff * dbnraw).sum(0, keepdim=True)\n",
        "# dbndiff = bnvar_inv * dbnraw\n",
        "# dbnvar = dbnvar_inv * -(0.5 * (bnvar + 1e-5)**-1.5)\n",
        "# dbndiff2 = ((1.0/(n-1)) * torch.ones_like(bndiff2)) * dbnvar\n",
        "# dbndiff += 2 * bndiff * dbndiff2\n",
        "# dhprebn = bndiff.close()\n",
        "# dbnmeani = (-dbndiff).sum(0, keepdim=True)\n",
        "# dhprebn += 1/n * (torch.ones_like(hprebn) * dbnmeani)\n",
        "\n",
        "# Next: Calculate dhprebn given dhpreact ( i.e. backprop through the batchnorm)\n",
        "# ( you'll also need to use some of the variables from the forward pass above)\n",
        "\n",
        "dhprebn = bngain*bnvar_inv/n * (n*dhpreact - dhpreact.sum(0) - n/(n-1)*bnraw*(dhpreact*bnraw).sum(0))\n",
        "\n",
        "cmp('hprebn', dhprebn, hprebn)\n",
        "\n"
      ],
      "metadata": {
        "colab": {
          "base_uri": "https://localhost:8080/"
        },
        "id": "rjZJPL40OuvW",
        "outputId": "be63bdec-c1b6-40d7-e592-c04b229dc86b"
      },
      "execution_count": 182,
      "outputs": [
        {
          "output_type": "stream",
          "name": "stdout",
          "text": [
            "hprebn          | exact: False | approximate: True  | maxdiff: 9.313225746154785e-10\n"
          ]
        }
      ]
    },
    {
      "cell_type": "code",
      "source": [
        "# MAthematical expression for the Batch Norm backward pass\n",
        "https://www.notion.so/Mathematical-expression-for-Batch-Norm-backward-pass-2d6f8f908a6c4cda8d86af156f58db95"
      ],
      "metadata": {
        "id": "QABzo9YmWiUI"
      },
      "execution_count": null,
      "outputs": []
    },
    {
      "cell_type": "code",
      "source": [
        "# @title Example 4: Putting it all together\n",
        "# Need to come back to this :-|"
      ],
      "metadata": {
        "id": "rYuDNqZbWrMK"
      },
      "execution_count": null,
      "outputs": []
    }
  ]
}