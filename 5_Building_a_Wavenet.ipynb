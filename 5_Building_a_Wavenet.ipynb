{
  "nbformat": 4,
  "nbformat_minor": 0,
  "metadata": {
    "colab": {
      "provenance": [],
      "authorship_tag": "ABX9TyNDLMBCzRXCDEslpvJhw4kq",
      "include_colab_link": true
    },
    "kernelspec": {
      "name": "python3",
      "display_name": "Python 3"
    },
    "language_info": {
      "name": "python"
    }
  },
  "cells": [
    {
      "cell_type": "markdown",
      "metadata": {
        "id": "view-in-github",
        "colab_type": "text"
      },
      "source": [
        "<a href=\"https://colab.research.google.com/github/brahma2024/LLM-study/blob/main/5_Building_a_Wavenet.ipynb\" target=\"_parent\"><img src=\"https://colab.research.google.com/assets/colab-badge.svg\" alt=\"Open In Colab\"/></a>"
      ]
    },
    {
      "cell_type": "markdown",
      "source": [
        "# Wavenet implemenetation\n",
        "paper reference: https://arxiv.org/pdf/1609.03499\n",
        "\n",
        "What is Wavenet architecture trying to solve for:\n",
        "- In previous implementation architecture, the entire block_size i.e. the context length was being inputed into the 1st hidden layer all at once\n",
        "- That is a lot of information being squeezed into the 1st hidden layer all at once, lets understand how\n",
        "  - Batch_size (Examples): 32, block_size (context_length): 8, Embedding_vector for each character in the block (n_embd): 10\n",
        "  - 1st hidden layer, with n_hidden: 200 is absorbing information from 8 consecutive characters each with 10 dim-vector, i.e.\n",
        "  - 200 neurons in an 80-dim space is looking over/absorbing information from a 10-dim space with 8 characters at any given time\n",
        "\n",
        "- Wavenet implementation, breaks this problem into smaller chunks for hidden layer neurons to absorb information much more gradually (e.g. of 1st hidden layer)\n",
        "  + Batch_size (Examples): 32, block_size (context_length): 8, Embedding_vector for each charater in the block (n_embd): 10,\n",
        "  + Plus, with n_consec: 2, input * n_consec i.e. how many consecutive inputs to visualize in the 10-dim(n_embd) for 1st layer and (n_hidden) dim space for subsequent layers, at the sametime\n",
        "  + imagine this as a hidden layer with n_hidden: 200 within a 20-dim space, overlooking at a 10-dim space with 2 characters at any given time\n",
        "  + this allows to assimilate more feature level information about the 2 consecutive characters\n"
      ],
      "metadata": {
        "id": "LQqZTv3ycuqL"
      }
    },
    {
      "cell_type": "code",
      "execution_count": 76,
      "metadata": {
        "id": "ZN2pbx32gAAG"
      },
      "outputs": [],
      "source": [
        "import torch\n",
        "import torch.nn.functional as F\n",
        "import matplotlib.pyplot as plt\n",
        "\n",
        "%matplotlib inline"
      ]
    },
    {
      "cell_type": "code",
      "source": [
        "!wget 'https://raw.githubusercontent.com/brahma2024/LLM-study/main/names.txt'"
      ],
      "metadata": {
        "colab": {
          "base_uri": "https://localhost:8080/"
        },
        "id": "8tCF_AuYavmo",
        "outputId": "7cafcae6-ea56-47fb-f7e1-b9b0ca9dd399"
      },
      "execution_count": 77,
      "outputs": [
        {
          "output_type": "stream",
          "name": "stdout",
          "text": [
            "--2024-06-26 15:46:42--  https://raw.githubusercontent.com/brahma2024/LLM-study/main/names.txt\n",
            "Resolving raw.githubusercontent.com (raw.githubusercontent.com)... 185.199.109.133, 185.199.108.133, 185.199.111.133, ...\n",
            "Connecting to raw.githubusercontent.com (raw.githubusercontent.com)|185.199.109.133|:443... connected.\n",
            "HTTP request sent, awaiting response... 200 OK\n",
            "Length: 228146 (223K) [text/plain]\n",
            "Saving to: ‘names.txt.1’\n",
            "\n",
            "names.txt.1         100%[===================>] 222.80K  --.-KB/s    in 0.1s    \n",
            "\n",
            "2024-06-26 15:46:43 (1.74 MB/s) - ‘names.txt.1’ saved [228146/228146]\n",
            "\n"
          ]
        }
      ]
    },
    {
      "cell_type": "code",
      "source": [
        "words = open('names.txt', 'r').read().splitlines()\n",
        "print(len(words))\n",
        "print(max(len(w) for w in words))\n",
        "print(words[:7])"
      ],
      "metadata": {
        "colab": {
          "base_uri": "https://localhost:8080/"
        },
        "id": "5CPvgJN_bEsI",
        "outputId": "b56ad4e8-e32d-4f45-9668-eba8a554a1ed"
      },
      "execution_count": 78,
      "outputs": [
        {
          "output_type": "stream",
          "name": "stdout",
          "text": [
            "32033\n",
            "15\n",
            "['emma', 'olivia', 'ava', 'isabella', 'sophia', 'charlotte', 'mia']\n"
          ]
        }
      ]
    },
    {
      "cell_type": "code",
      "source": [
        "# build the vocabulary of characters and mappings to/from integers\n",
        "chars = sorted(list(set(''.join(words))))\n",
        "print(chars)\n",
        "stoi = {s:i+1 for i, s in enumerate(chars)}\n",
        "stoi['.'] = 0\n",
        "itos = {i:s for s, i in stoi.items()}\n",
        "vocab_size = len(itos)\n",
        "print(stoi)\n",
        "print(itos)"
      ],
      "metadata": {
        "colab": {
          "base_uri": "https://localhost:8080/"
        },
        "id": "LNL4REuIb3cb",
        "outputId": "a2d35ba7-21b4-4d9e-f51c-369dd59acd8b"
      },
      "execution_count": 79,
      "outputs": [
        {
          "output_type": "stream",
          "name": "stdout",
          "text": [
            "['a', 'b', 'c', 'd', 'e', 'f', 'g', 'h', 'i', 'j', 'k', 'l', 'm', 'n', 'o', 'p', 'q', 'r', 's', 't', 'u', 'v', 'w', 'x', 'y', 'z']\n",
            "{'a': 1, 'b': 2, 'c': 3, 'd': 4, 'e': 5, 'f': 6, 'g': 7, 'h': 8, 'i': 9, 'j': 10, 'k': 11, 'l': 12, 'm': 13, 'n': 14, 'o': 15, 'p': 16, 'q': 17, 'r': 18, 's': 19, 't': 20, 'u': 21, 'v': 22, 'w': 23, 'x': 24, 'y': 25, 'z': 26, '.': 0}\n",
            "{1: 'a', 2: 'b', 3: 'c', 4: 'd', 5: 'e', 6: 'f', 7: 'g', 8: 'h', 9: 'i', 10: 'j', 11: 'k', 12: 'l', 13: 'm', 14: 'n', 15: 'o', 16: 'p', 17: 'q', 18: 'r', 19: 's', 20: 't', 21: 'u', 22: 'v', 23: 'w', 24: 'x', 25: 'y', 26: 'z', 0: '.'}\n"
          ]
        }
      ]
    },
    {
      "cell_type": "code",
      "source": [
        "# shuffle the words\n",
        "import random\n",
        "random.seed(42)\n",
        "random.shuffle(words)"
      ],
      "metadata": {
        "id": "_HuacHLZ669N"
      },
      "execution_count": 80,
      "outputs": []
    },
    {
      "cell_type": "code",
      "source": [
        "# build the dataset\n",
        "block_size = 8 # context length: Sequence of characters that are required to predict the next one\n",
        "\n",
        "def build_dataset(words):\n",
        "  X, Y = [], [] # input and output data\n",
        "\n",
        "  for w in words:\n",
        "    context = [0] * block_size\n",
        "    for ch in w + '.':\n",
        "      ix = stoi[ch]\n",
        "      X.append(context)\n",
        "      Y.append(ix)\n",
        "      # print(''.join(itos[i] for i in context), '-->', itos[ix])\n",
        "      context = context[1:] + [ix] # shift context window by 1 place\n",
        "\n",
        "  X = torch.tensor(X)\n",
        "  Y = torch.tensor(Y)\n",
        "  print(X.shape, Y.shape)\n",
        "  return X, Y\n",
        "\n",
        "\n",
        "# spliting dataset: training, dev/validation, test\n",
        "n1 = int(0.8*len(words))\n",
        "n2 = int(0.9*len(words))\n",
        "Xtr, Ytr = build_dataset(words[:n1])     # 80%\n",
        "Xdev, Ydev = build_dataset(words[n1:n2]) # 10%\n",
        "Xte, Yte = build_dataset(words[n2:]) # 10%"
      ],
      "metadata": {
        "colab": {
          "base_uri": "https://localhost:8080/"
        },
        "id": "lclmpnOWcJ9q",
        "outputId": "1e4fc1b2-5aff-4c78-bb69-8c70b148e43b"
      },
      "execution_count": 81,
      "outputs": [
        {
          "output_type": "stream",
          "name": "stdout",
          "text": [
            "torch.Size([182625, 8]) torch.Size([182625])\n",
            "torch.Size([22655, 8]) torch.Size([22655])\n",
            "torch.Size([22866, 8]) torch.Size([22866])\n"
          ]
        }
      ]
    },
    {
      "cell_type": "code",
      "source": [
        "for x,y in zip(Xtr[:20], Ytr[:20]):\n",
        "  print(''.join(itos[ix.item()] for ix in x), '-->', itos[y.item()])"
      ],
      "metadata": {
        "colab": {
          "base_uri": "https://localhost:8080/"
        },
        "id": "4K46eMOu7yxU",
        "outputId": "d9d58c15-1e28-43dc-cac4-2198da1d3a0f"
      },
      "execution_count": 82,
      "outputs": [
        {
          "output_type": "stream",
          "name": "stdout",
          "text": [
            "........ --> y\n",
            ".......y --> u\n",
            "......yu --> h\n",
            ".....yuh --> e\n",
            "....yuhe --> n\n",
            "...yuhen --> g\n",
            "..yuheng --> .\n",
            "........ --> d\n",
            ".......d --> i\n",
            "......di --> o\n",
            ".....dio --> n\n",
            "....dion --> d\n",
            "...diond --> r\n",
            "..diondr --> e\n",
            ".diondre --> .\n",
            "........ --> x\n",
            ".......x --> a\n",
            "......xa --> v\n",
            ".....xav --> i\n",
            "....xavi --> e\n"
          ]
        }
      ]
    },
    {
      "cell_type": "code",
      "source": [
        "# Wrapping Layers into modules\n",
        "# These modules are available in torch.nn | but we are writing them from scratch\n",
        "# more detailed notes in 3 - Activations&Gradients\n",
        "\n",
        "class Linear:\n",
        "\n",
        "  def __init__(self, fan_in, fan_out, bias=True):\n",
        "    self.weight = torch.randn((fan_in, fan_out)) / fan_in**0.5\n",
        "    self.bias = torch.zeros(fan_out) if bias else None\n",
        "\n",
        "  def __call__(self, x):\n",
        "    self.out = x @ self.weight\n",
        "    if self.bias is not None:\n",
        "      self.out += self.bias\n",
        "    return self.out\n",
        "\n",
        "  def parameters(self):\n",
        "    return [self.weight] + ([] if self.bias is None else [self.bias])\n",
        "\n",
        "# ---------------------------------------------------------------------------------------------------------------------\n",
        "class BatchNorm1D:\n",
        "\n",
        "  def __init__(self, dim, eps=1e-5, momentum=0.1):\n",
        "    self.eps = eps\n",
        "    self.momentum = momentum\n",
        "    self.training = True\n",
        "    # parameters trained with backprop\n",
        "    self.gamma = torch.ones(dim)\n",
        "    self.beta = torch.zeros(dim)\n",
        "    # buffers (trained with a running 'momentum update')\n",
        "    self.running_mean = torch.zeros(dim)\n",
        "    self.running_var = torch.ones(dim)\n",
        "\n",
        "  def __call__(self, x):\n",
        "    # calculate the forward pass\n",
        "    if self.training:\n",
        "      if x.dim == 2: # that is the input is 2-dimension\n",
        "        dim = 0 # i.e. we take the mean/var over the oth dimension\n",
        "      elif x.dim == 3:\n",
        "        dim = 3 # take mean/var over both the 0th and 1st dimension\n",
        "\n",
        "      xmean = x.mean((0,1), keepdim=True) # batch mean\n",
        "      xvar = x.var((0,1), keepdim=True) # batch variance\n",
        "    else:\n",
        "      xmean = self.running_mean\n",
        "      xvar = self.running_var\n",
        "\n",
        "    xhat = (x - xmean)/torch.sqrt(xvar + self.eps) # normalize unit variance\n",
        "    self.out = self.gamma * xhat + self.beta\n",
        "    # update the buffers\n",
        "    with torch.no_grad():\n",
        "      self.running_mean = (1 - self.momentum) * self.running_mean + self.momentum * xmean\n",
        "      self.running_var = (1 - self.momentum) * self.running_var + self.momentum * xvar\n",
        "    return self.out\n",
        "\n",
        "  def parameters(self):\n",
        "    return [self.gamma, self.beta]\n",
        "\n",
        "# ---------------------------------------------------------------------------------------------------------------------\n",
        "class Tanh:\n",
        "\n",
        "  def __call__(self, x):\n",
        "    self.out = torch.tanh(x)\n",
        "    return self.out\n",
        "\n",
        "  def parameters(self):\n",
        "    return[]\n",
        "\n",
        "# ---------------------------------------------------------------------------------------------------------------------\n",
        "class Embedding:\n",
        "\n",
        "  def __init__(self, num_embeddings, embedding_dim):\n",
        "    self.weight = torch.randn((num_embeddings, embedding_dim)) # what used to be C: Embedding Matrix\n",
        "\n",
        "  def __call__(self, IX):\n",
        "    self.out = self.weight[IX]\n",
        "    return self.out\n",
        "\n",
        "  def parameters(self):\n",
        "    return [self.weight]\n",
        "\n",
        "# ---------------------------------------------------------------------------------------------------------------------\n",
        "class FlattenConsecutive: # pytorch Flatten implementation is slightly different | hence naming it differently\n",
        "\n",
        "  def __init__(self, n):\n",
        "    self.n = n # n: number of elements that are consecutive, that we would like to concatenate in the last dimension of the output\n",
        "\n",
        "  def __call__(self, x):\n",
        "    B, T, C = x.shape # B: batch_size, T: context length, C: Embedding Vector\n",
        "    # Implementation of 3 context length | Bengio Et All\n",
        "    # x = x.view()\n",
        "    # self.out = x.view(x.shape[0], -1)\n",
        "\n",
        "    # Expected wavenet implementation output\n",
        "    # self.out = x.view(x.shape[0], -1, C*self.n)\n",
        "    x = x.view(B, T//self.n, C*self.n) # Wavenet implementation | where T//n is integer division\n",
        "    if x.shape[1] == 1: # in case there is a spurious dimension with just 1 element in the 1st dimension\n",
        "      x = x.squeeze(1) # squeeze takes out a given dimention | so if T//n = 1, it returns self.out.shape = [x.shape[0], c*self.n]\n",
        "    self.out = x\n",
        "    return self.out\n",
        "\n",
        "  def parameters(self):\n",
        "    return []\n",
        "\n",
        "# instead of passing layers as a naked list\n",
        "# we will create a container, in which we pass in a list of layers\n",
        "# then given any input in the forward pass, we just call the layers sequentially\n",
        "# in terms of parameters: it is just all the parameters of the child modules\n",
        "# Essentially we are rebuilding the similar API like exposed by torch.nn.Sequential\n",
        "class Sequential:\n",
        "\n",
        "  def __init__(self, layers):\n",
        "    self.layers = layers\n",
        "\n",
        "  def __call__(self, x):\n",
        "    for layer in self.layers:\n",
        "      x= layer(x)\n",
        "      self.out = x\n",
        "    return self.out\n",
        "\n",
        "  def parameters(self):\n",
        "    # get parameters of all layers and stretch them out into one list\n",
        "    return [p for layer in self.layers for p in layer.parameters()]"
      ],
      "metadata": {
        "id": "16He9UJByth-"
      },
      "execution_count": 122,
      "outputs": []
    },
    {
      "cell_type": "code",
      "source": [
        "torch.manual_seed(42); # seeding rng for reproducability"
      ],
      "metadata": {
        "id": "enC9Avl9Z6ms"
      },
      "execution_count": 84,
      "outputs": []
    },
    {
      "cell_type": "code",
      "source": [
        "# Initialize parameters\n",
        "# Size of the network: Initial, param: 22k\n",
        "# ------\n",
        "# n_embd = 10 # dimensionality of character embedding vector\n",
        "# n_hidden = 200 # number of neurons in each hidden layer\n",
        "\n",
        "# Size of the network: more layers, keeping param: 22k\n",
        "# ------\n",
        "# Now, previous implementation where entire block_size was inputed in one consecutive layer we used\n",
        "# n_hidden = 200, which meant n_parameters = 22K\n",
        "# Since wavenets, objective is to be more efficient, by building a more deeper architecture to consumer information more gradually\n",
        "# we will keep n_parameters = 22K and compare the results\n",
        "# n_hidden = 68\n",
        "# n_consec = 2 # number of consecutive characters | wavenet implementation\n",
        "\n",
        "# Increasing Size of the network: param: 76k\n",
        "# ------\n",
        "n_embd = 24\n",
        "n_hidden = 128\n",
        "n_consec = 2\n",
        "\n",
        "# Here we dont maintain a naked list of layers\n",
        "# We have a concept of a MODEL: which is a module\n",
        "model = Sequential([\n",
        "    Embedding(vocab_size, n_embd),\n",
        "    # Embedding output = Embedding : (32, 8, 10) | (batch_size, block_size, Embd_dim)\n",
        "\n",
        "    # 1st Hidden layer ops: Batch_size: 32, block_size: 8 --> split into 4 pairs of 2 consecutive each # (1, 2), (3, 4), (5, 6), (7, 8)\n",
        "    FlattenConsecutive(n_consec), Linear(n_embd * n_consec, n_hidden, bias=False), BatchNorm1D(n_hidden), Tanh(),\n",
        "    # 1st Hidden layer Output\n",
        "    # FlattenConsecutive :  (32, 4, 20)\n",
        "    # Linear :              (32, 4, 200) # each neuron/feature/channel in the Linear layer is defined by a vector (n_consec * Embd_dim)\n",
        "    # BatchNorm1D :         (32, 4, 200)\n",
        "    # Tanh :                (32, 4, 200)\n",
        "\n",
        "    # 2nd hidden layer ops: 2nd hidden layer will take batch_size: 32, input_block: 2 bigram outputs (4 charac inputs) or extracted features, n_hidden: 200\n",
        "    FlattenConsecutive(n_consec), Linear(n_hidden * n_consec, n_hidden, bias=False), BatchNorm1D(n_hidden), Tanh(),\n",
        "    # 2nd Hidden layer Output\n",
        "    # FlattenConsecutive :  (32, 2, 400) # flattens it out to (batch_size, input_block // n_consec, n_consec * n_hidden)\n",
        "    # Linear :  (32, 2, 200)\n",
        "    # BatchNorm1D :  (32, 2, 200)\n",
        "    # Tanh :  (32, 2, 200)\n",
        "\n",
        "    # 3rd hidden layer ops: 3rd hidden layer will take batch_size: 32, input_block: 2 extracted features of 2nd layer, n_hidden: 200\n",
        "    FlattenConsecutive(n_consec), Linear(n_hidden * n_consec, n_hidden, bias=False), BatchNorm1D(n_hidden), Tanh(),\n",
        "    # 3rd Hidden layer output\n",
        "    # Note: here T // n = 1 since FlattenConsecutive layer gets a x.shape = 32, 2, 200 = B, T, C\n",
        "    # during Flattening: x = x.view(B, T // n, C * n) | and if x[1] == 1 i.e. T // n == 1: squeeze it out, i.e. flatten it\n",
        "    # to understand why is it happening: at this 3rd layer, the 1st dimension which represents the aggregated extracted feature, just has 1 dim, its squeezed out\n",
        "    # FlattenConsecutive :  (32, 400)\n",
        "    # Linear :  (32, 200)\n",
        "    # BatchNorm1D :  (32, 200)\n",
        "    # Tanh :  (32, 200)\n",
        "\n",
        "    # Output Layer: input is batch_size: 32 and n_hidden: 200\n",
        "    Linear(n_hidden, vocab_size), BatchNorm1D(vocab_size)\n",
        "    # Linear :  (32, 27)\n",
        "    # BatchNorm1D :  (32, 27)\n",
        "])\n",
        "\n",
        "# parameter init\n",
        "# with torch.no_grad():\n",
        "  # layers[-1].weight *= 0.1 # last layer make less confident | reduce overfitting\n",
        "\n",
        "parameters = model.parameters()\n",
        "print(sum(p.nelement() for p in parameters))\n",
        "for p in parameters:\n",
        "  p.requires_grad = True\n",
        "\n",
        "# print(i)"
      ],
      "metadata": {
        "colab": {
          "base_uri": "https://localhost:8080/"
        },
        "id": "RWifI9IkZ4aB",
        "outputId": "c06c11d5-179d-4983-e742-e25f447c09fc"
      },
      "execution_count": 134,
      "outputs": [
        {
          "output_type": "stream",
          "name": "stdout",
          "text": [
            "76633\n"
          ]
        }
      ]
    },
    {
      "cell_type": "code",
      "source": [
        "# how many parameters each layer is contributing\n",
        "total = 0\n",
        "for layer in model.layers:\n",
        "  total += sum(p.nelement() for p in layer.parameters())\n",
        "  print(f'{layer.__class__.__name__}: {sum(p.nelement() for p in layer.parameters())} | tot: {total}')"
      ],
      "metadata": {
        "colab": {
          "base_uri": "https://localhost:8080/"
        },
        "id": "4ZSPgc0Zww9q",
        "outputId": "abfc3bf0-2f26-4279-b227-c19ecc951b99"
      },
      "execution_count": 113,
      "outputs": [
        {
          "output_type": "stream",
          "name": "stdout",
          "text": [
            "Embedding: 270 | tot: 270\n",
            "FlattenConsecutive: 0 | tot: 270\n",
            "Linear: 1360 | tot: 1630\n",
            "BatchNorm1D: 136 | tot: 1766\n",
            "Tanh: 0 | tot: 1766\n",
            "FlattenConsecutive: 0 | tot: 1766\n",
            "Linear: 9248 | tot: 11014\n",
            "BatchNorm1D: 136 | tot: 11150\n",
            "Tanh: 0 | tot: 11150\n",
            "FlattenConsecutive: 0 | tot: 11150\n",
            "Linear: 9248 | tot: 20398\n",
            "BatchNorm1D: 136 | tot: 20534\n",
            "Tanh: 0 | tot: 20534\n",
            "Linear: 1863 | tot: 22397\n",
            "BatchNorm1D: 54 | tot: 22451\n"
          ]
        }
      ]
    },
    {
      "cell_type": "code",
      "source": [
        "ix = torch.randint(0, Xtr.shape[0], (32,))\n",
        "Xb, Yb = Xtr[ix], Ytr[ix]\n",
        "logits = model(Xb)\n",
        "print(Xb.shape)"
      ],
      "metadata": {
        "colab": {
          "base_uri": "https://localhost:8080/"
        },
        "id": "TJZs-8YaSFwq",
        "outputId": "35966956-5f50-41d2-e6d2-0e1be9128c40"
      },
      "execution_count": 100,
      "outputs": [
        {
          "output_type": "stream",
          "name": "stdout",
          "text": [
            "torch.Size([32, 8])\n"
          ]
        }
      ]
    },
    {
      "cell_type": "code",
      "source": [
        "# Understanding the mean/var calculation in the BatchNorm layer\n",
        "e = torch.randn((32, 4, 68))\n",
        "# since we want only n_hidden = 68 mean/vars, we calculate that over both the 0th and the 1st dimension\n",
        "# pytorch allows us to give a dimension both as int or a tuple of ints\n",
        "# we can reduce over multiple dimensions at the sametime\n",
        "emean = e.mean((0,1), keepdim=True)\n",
        "evar = e.var((0,1), keepdim=True)\n",
        "ehat = (e - emean) / torch.sqrt(evar + 1e-5)\n",
        "print(emean.shape, evar.shape, ehat.shape)\n",
        "print(model.layers[3].running_mean.shape) # should gives us only 68 values for the mean"
      ],
      "metadata": {
        "colab": {
          "base_uri": "https://localhost:8080/"
        },
        "id": "Ej_7FFSL5HUe",
        "outputId": "69dd0dc3-99ce-4e31-8a97-a68cd8f0a12b"
      },
      "execution_count": 132,
      "outputs": [
        {
          "output_type": "stream",
          "name": "stdout",
          "text": [
            "torch.Size([1, 1, 68]) torch.Size([1, 1, 68]) torch.Size([32, 4, 68])\n",
            "torch.Size([1, 1, 68])\n"
          ]
        }
      ]
    },
    {
      "cell_type": "code",
      "source": [
        "for layer in model.layers:\n",
        "  print(layer.__class__.__name__, ': ', tuple(layer.out.shape))"
      ],
      "metadata": {
        "colab": {
          "base_uri": "https://localhost:8080/"
        },
        "id": "H-UFxc9BNN-Z",
        "outputId": "135bca29-f0c0-4570-a266-44635f713736"
      },
      "execution_count": 101,
      "outputs": [
        {
          "output_type": "stream",
          "name": "stdout",
          "text": [
            "Embedding :  (32, 8, 10)\n",
            "FlattenConsecutive :  (32, 4, 20)\n",
            "Linear :  (32, 4, 200)\n",
            "BatchNorm1D :  (32, 4, 200)\n",
            "Tanh :  (32, 4, 200)\n",
            "FlattenConsecutive :  (32, 2, 400)\n",
            "Linear :  (32, 2, 200)\n",
            "BatchNorm1D :  (32, 2, 200)\n",
            "Tanh :  (32, 2, 200)\n",
            "FlattenConsecutive :  (32, 400)\n",
            "Linear :  (32, 200)\n",
            "BatchNorm1D :  (32, 200)\n",
            "Tanh :  (32, 200)\n",
            "Linear :  (32, 27)\n",
            "BatchNorm1D :  (32, 27)\n"
          ]
        }
      ]
    },
    {
      "cell_type": "code",
      "source": [
        "print(Xb.view(Xb.shape[0], 4, -1))"
      ],
      "metadata": {
        "id": "TBvLu7r8Scqw"
      },
      "execution_count": null,
      "outputs": []
    },
    {
      "cell_type": "code",
      "source": [
        "print(model.layers[0].out.shape) # output of Embedding layer\n",
        "print(model.layers[0].out.view(model.layers[0].out.shape[0], 4, -1).shape) # 2 consecutive words as input instead of 8"
      ],
      "metadata": {
        "id": "bJ_NrOQYso5V"
      },
      "execution_count": null,
      "outputs": []
    },
    {
      "cell_type": "code",
      "source": [
        "model.layers[1].out.shape # output of Flatten layer\n",
        "# Using the flattening layer to create 2 consecutive inputs, instead of 8 consecutive inputs"
      ],
      "metadata": {
        "id": "IcDjqZwsypE5"
      },
      "execution_count": null,
      "outputs": []
    },
    {
      "cell_type": "code",
      "source": [
        "model.layers[2].out.shape # output of Linear layer"
      ],
      "metadata": {
        "id": "cj0EXdwmyx6j"
      },
      "execution_count": null,
      "outputs": []
    },
    {
      "cell_type": "code",
      "source": [
        "# matrix multiplication: is a multiplicative operator between the innermost layer of mat-1 and outermost layer of mat-2\n",
        "# out = x @ W1 + b1\n",
        "print((torch.randn((4, 80)) @ torch.randn((80, 200)) + torch.randn(200)).shape) # shape of the output\n",
        "print((torch.randn((4, 5, 2, 4, 80)) @ torch.randn((80, 200)) + torch.randn(200)).shape) # shape of the output"
      ],
      "metadata": {
        "id": "5885bTfu0ULK"
      },
      "execution_count": null,
      "outputs": []
    },
    {
      "cell_type": "code",
      "source": [
        "# get all the even parts from a range of 10 numbers\n",
        "list(range(10))[::2]"
      ],
      "metadata": {
        "id": "CE69tjWT9M9C"
      },
      "execution_count": null,
      "outputs": []
    },
    {
      "cell_type": "code",
      "source": [
        "# get all the odd parts starting at 1 from a range of 10 numbers\n",
        "list(range(10))[1::2]"
      ],
      "metadata": {
        "id": "Kjt-nMZ__ehq"
      },
      "execution_count": null,
      "outputs": []
    },
    {
      "cell_type": "code",
      "source": [
        "# wavenet implementation\n",
        "# (1, 2), (3, 4), (5, 6), (7, 8)\n",
        "e = torch.randn((4, 8, 10)) # goal: want this to be (4, 4, 20) where consecutive 10-d vectors get concatenated\n",
        "# e[:, ::2, :] # returns all even indexed values in the 2nd dimension\n",
        "# e[:, 1::2, :] # returns all the odd indexed values in the 2nd dimension\n",
        "# idea is to concatenate them in groups\n",
        "explicit_concatenation = torch.cat([e[:, ::2, :], e[:, 1::2, :]], dim=2)\n",
        "implicit_concatenation = e.view(e.shape[0], -1, 20)\n",
        "print(explicit_concatenation.shape, implicit_concatenation.shape)\n",
        "# to see if they are the same implementation\n",
        "(e.view(4, 4, 20) == explicit_concatenation).all()"
      ],
      "metadata": {
        "id": "LYo3gqzm-MTx"
      },
      "execution_count": null,
      "outputs": []
    },
    {
      "cell_type": "code",
      "source": [
        "# Training the model\n",
        "max_steps = 200000\n",
        "batch_size = 32\n",
        "lossi = []\n",
        "\n",
        "for i in range(max_steps):\n",
        "  ix = torch.randint(0, Xtr.shape[0], (batch_size,))\n",
        "  Xb, Yb = Xtr[ix], Ytr[ix] # batch X, Y\n",
        "\n",
        "  # forward pass\n",
        "  logits = model(Xb)\n",
        "  loss = F.cross_entropy(logits, Yb) # loss function\n",
        "\n",
        "  # backward pass\n",
        "  for p in parameters:\n",
        "    p.grad = None\n",
        "  loss.backward()\n",
        "\n",
        "  # update: simple SGD\n",
        "  lr = 0.1 if i < 150000 else 0.01 # step learning rate decay\n",
        "  for p in parameters:\n",
        "    p.data += -lr * p.grad\n",
        "\n",
        "  if i % 10000 == 0: # print every once in a while\n",
        "    print(f'{i:7d}/{max_steps:7d}: {loss.item():.4f}')\n",
        "  lossi.append(loss.log10().item())\n",
        "\n",
        "  # break"
      ],
      "metadata": {
        "colab": {
          "base_uri": "https://localhost:8080/"
        },
        "id": "WGj4SdnsFfZG",
        "outputId": "a7986387-158f-4c10-8216-15454682a308"
      },
      "execution_count": 135,
      "outputs": [
        {
          "output_type": "stream",
          "name": "stdout",
          "text": [
            "      0/ 200000: 4.0349\n",
            "  10000/ 200000: 2.0663\n",
            "  20000/ 200000: 1.6476\n",
            "  30000/ 200000: 1.9101\n",
            "  40000/ 200000: 2.1231\n",
            "  50000/ 200000: 1.9612\n",
            "  60000/ 200000: 1.7100\n",
            "  70000/ 200000: 1.9351\n",
            "  80000/ 200000: 1.9644\n",
            "  90000/ 200000: 2.1201\n",
            " 100000/ 200000: 2.1406\n",
            " 110000/ 200000: 1.7456\n",
            " 120000/ 200000: 1.9893\n",
            " 130000/ 200000: 1.7330\n",
            " 140000/ 200000: 1.8236\n",
            " 150000/ 200000: 1.6951\n",
            " 160000/ 200000: 1.6537\n",
            " 170000/ 200000: 1.5055\n",
            " 180000/ 200000: 1.6951\n",
            " 190000/ 200000: 1.8897\n"
          ]
        }
      ]
    },
    {
      "cell_type": "code",
      "source": [
        "plt.plot(lossi)"
      ],
      "metadata": {
        "colab": {
          "base_uri": "https://localhost:8080/",
          "height": 447
        },
        "id": "1flhivhiOx3T",
        "outputId": "b5106fb6-fbb6-49e1-e4c3-5e6f7088878b"
      },
      "execution_count": 136,
      "outputs": [
        {
          "output_type": "execute_result",
          "data": {
            "text/plain": [
              "[<matplotlib.lines.Line2D at 0x78f87804d090>]"
            ]
          },
          "metadata": {},
          "execution_count": 136
        },
        {
          "output_type": "display_data",
          "data": {
            "text/plain": [
              "<Figure size 640x480 with 1 Axes>"
            ],
            "image/png": "[encoded data removed]"
          },
          "metadata": {}
        }
      ]
    },
    {
      "cell_type": "code",
      "source": [
        "# average out and plot lossi, to get a more representative plot\n",
        "# vieiwing lossi as [200, 1000] tensor\n",
        "# take the mean across the 200 rows and plot them\n",
        "plt.plot(torch.tensor(lossi).view(-1, 1000).mean(1))"
      ],
      "metadata": {
        "colab": {
          "base_uri": "https://localhost:8080/",
          "height": 450
        },
        "id": "lNI0NxI0duzP",
        "outputId": "59ce02db-f39d-48ae-ca16-927a82289155"
      },
      "execution_count": 137,
      "outputs": [
        {
          "output_type": "execute_result",
          "data": {
            "text/plain": [
              "[<matplotlib.lines.Line2D at 0x78f7caee64a0>]"
            ]
          },
          "metadata": {},
          "execution_count": 137
        },
        {
          "output_type": "display_data",
          "data": {
            "text/plain": [
              "<Figure size 640x480 with 1 Axes>"
            ],
            "image/png": "[encoded data removed]"
          },
          "metadata": {}
        }
      ]
    },
    {
      "cell_type": "code",
      "source": [
        "# put layers into eval mode ( needed for batchnorm especially)\n",
        "for layer in model.layers:\n",
        "  layer.training = False"
      ],
      "metadata": {
        "id": "4rcCjrR9cKjU"
      },
      "execution_count": 138,
      "outputs": []
    },
    {
      "cell_type": "code",
      "source": [
        "# evaluate the loss\n",
        "@torch.no_grad() # this decorator disables gradient tracking inside pytorch\n",
        "def split_loss(split):\n",
        "  x, y = {\n",
        "      'train': (Xtr, Ytr),\n",
        "      'val': (Xdev, Ydev),\n",
        "      'test': (Xte, Yte,)\n",
        "  }[split]\n",
        "  logits = model(x)\n",
        "  loss = F.cross_entropy(logits, y)\n",
        "\n",
        "  print(split, loss.item())\n",
        "\n",
        "split_loss('train')\n",
        "split_loss('val')"
      ],
      "metadata": {
        "colab": {
          "base_uri": "https://localhost:8080/"
        },
        "id": "mj0vDLQws9GF",
        "outputId": "930648c0-26c2-4945-dde0-63a8957c9f5d"
      },
      "execution_count": 139,
      "outputs": [
        {
          "output_type": "stream",
          "name": "stdout",
          "text": [
            "train 1.742355227470398\n",
            "val 2.0093793869018555\n"
          ]
        }
      ]
    },
    {
      "cell_type": "markdown",
      "source": [
        "# **performance log**\n",
        "- **original context**: 3 characters, hidden neurons: 200, params: 12k\n",
        "  - train: 2.058,\n",
        "  - val: 2.105\n",
        "- **longer context**: 8 characters, hidden neurons: 200, params: 22k\n",
        "  - train: 1.9193\n",
        "  - val: 2.033588\n",
        "- **Wavenet Architecture**: 2 consecutive characters, hidden neurons: 68, params: 22k\n",
        "  - train: 1.9065\n",
        "  - val: 2.02278\n",
        "- **BatchNorm Fixed**:\n",
        "  - train: 1.742355\n",
        "  - val: 2.0093"
      ],
      "metadata": {
        "id": "u3s0SVrhPh5i"
      }
    },
    {
      "cell_type": "code",
      "source": [
        "# sample from the model\n",
        "\n",
        "for _ in range(10):\n",
        "\n",
        "  out = []\n",
        "  context = [0] * block_size # initialize with all ...\n",
        "  while True:\n",
        "    logits = model(torch.tensor([context]))\n",
        "    probs = F.softmax(logits, dim=1)\n",
        "    # sample from the distribution\n",
        "    ix = torch.multinomial(probs, num_samples=1, replacement=True).item()\n",
        "    # shift the context window and track the samples\n",
        "    context = context[1:] + [ix]\n",
        "    out.append(ix)\n",
        "    # if we sample the special '.' token, break\n",
        "    if ix == 0:\n",
        "      break\n",
        "  print(''.join(itos[i] for i in out)) # decode and print the generated word\n",
        ""
      ],
      "metadata": {
        "colab": {
          "base_uri": "https://localhost:8080/"
        },
        "id": "tCo2gAM1twON",
        "outputId": "7dc66561-991c-446e-85a4-168c92316a4a"
      },
      "execution_count": 140,
      "outputs": [
        {
          "output_type": "stream",
          "name": "stdout",
          "text": [
            "sidwa.\n",
            "carena.\n",
            "elliyah.\n",
            "nory.\n",
            "abrien.\n",
            "nyaru.\n",
            "johan.\n",
            "colten.\n",
            "ajourney.\n",
            "damyah.\n"
          ]
        }
      ]
    }
  ]
}